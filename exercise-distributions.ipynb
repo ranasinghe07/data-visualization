{
 "cells": [
  {
   "cell_type": "markdown",
   "id": "9fb802a2",
   "metadata": {
    "papermill": {
     "duration": 0.005346,
     "end_time": "2025-07-19T06:30:22.460412",
     "exception": false,
     "start_time": "2025-07-19T06:30:22.455066",
     "status": "completed"
    },
    "tags": []
   },
   "source": [
    "**This notebook is an exercise in the [Data Visualization](https://www.kaggle.com/learn/data-visualization) course.  You can reference the tutorial at [this link](https://www.kaggle.com/alexisbcook/distributions).**\n",
    "\n",
    "---\n"
   ]
  },
  {
   "cell_type": "markdown",
   "id": "f8efee51",
   "metadata": {
    "papermill": {
     "duration": 0.004255,
     "end_time": "2025-07-19T06:30:22.469414",
     "exception": false,
     "start_time": "2025-07-19T06:30:22.465159",
     "status": "completed"
    },
    "tags": []
   },
   "source": [
    "In this exercise, you will use your new knowledge to propose a solution to a real-world scenario.  To succeed, you will need to import data into Python, answer questions using the data, and generate **histograms** and **density plots** to understand patterns in the data.\n",
    "\n",
    "## Scenario\n",
    "\n",
    "You'll work with a real-world dataset containing information collected from microscopic images of breast cancer tumors, similar to the image below.\n",
    "\n",
    "![ex4_cancer_image](https://storage.googleapis.com/kaggle-media/learn/images/qUESsJe.png)\n",
    "\n",
    "Each tumor has been labeled as either [**benign**](https://en.wikipedia.org/wiki/Benign_tumor) (_noncancerous_) or **malignant** (_cancerous_).\n",
    "\n",
    "To learn more about how this kind of data is used to create intelligent algorithms to classify tumors in medical settings, **watch the short video [at this link](https://www.youtube.com/watch?v=9Mz84cwVmS0)**."
   ]
  },
  {
   "cell_type": "markdown",
   "id": "eda80e15",
   "metadata": {
    "papermill": {
     "duration": 0.004698,
     "end_time": "2025-07-19T06:30:22.478620",
     "exception": false,
     "start_time": "2025-07-19T06:30:22.473922",
     "status": "completed"
    },
    "tags": []
   },
   "source": [
    "\n",
    "\n",
    "## Setup\n",
    "\n",
    "Run the next cell to import and configure the Python libraries that you need to complete the exercise."
   ]
  },
  {
   "cell_type": "code",
   "execution_count": 1,
   "id": "8e1a0a39",
   "metadata": {
    "execution": {
     "iopub.execute_input": "2025-07-19T06:30:22.490832Z",
     "iopub.status.busy": "2025-07-19T06:30:22.490457Z",
     "iopub.status.idle": "2025-07-19T06:30:27.497478Z",
     "shell.execute_reply": "2025-07-19T06:30:27.496340Z"
    },
    "papermill": {
     "duration": 5.015009,
     "end_time": "2025-07-19T06:30:27.499295",
     "exception": false,
     "start_time": "2025-07-19T06:30:22.484286",
     "status": "completed"
    },
    "tags": []
   },
   "outputs": [
    {
     "name": "stdout",
     "output_type": "stream",
     "text": [
      "Setup Complete\n"
     ]
    }
   ],
   "source": [
    "import pandas as pd\n",
    "pd.plotting.register_matplotlib_converters()\n",
    "import matplotlib.pyplot as plt\n",
    "%matplotlib inline\n",
    "import seaborn as sns\n",
    "print(\"Setup Complete\")"
   ]
  },
  {
   "cell_type": "markdown",
   "id": "c0cf7469",
   "metadata": {
    "papermill": {
     "duration": 0.004958,
     "end_time": "2025-07-19T06:30:27.509704",
     "exception": false,
     "start_time": "2025-07-19T06:30:27.504746",
     "status": "completed"
    },
    "tags": []
   },
   "source": [
    "The questions below will give you feedback on your work. Run the following cell to set up our feedback system."
   ]
  },
  {
   "cell_type": "code",
   "execution_count": 2,
   "id": "f11da450",
   "metadata": {
    "execution": {
     "iopub.execute_input": "2025-07-19T06:30:27.520442Z",
     "iopub.status.busy": "2025-07-19T06:30:27.519884Z",
     "iopub.status.idle": "2025-07-19T06:30:27.617382Z",
     "shell.execute_reply": "2025-07-19T06:30:27.616161Z"
    },
    "papermill": {
     "duration": 0.10506,
     "end_time": "2025-07-19T06:30:27.619455",
     "exception": false,
     "start_time": "2025-07-19T06:30:27.514395",
     "status": "completed"
    },
    "tags": []
   },
   "outputs": [
    {
     "name": "stdout",
     "output_type": "stream",
     "text": [
      "Setup Complete\n"
     ]
    }
   ],
   "source": [
    "# Set up code checking\n",
    "from learntools.core import binder\n",
    "binder.bind(globals())\n",
    "from learntools.data_viz_to_coder.ex5 import *\n",
    "print(\"Setup Complete\")"
   ]
  },
  {
   "cell_type": "markdown",
   "id": "4e29a132",
   "metadata": {
    "papermill": {
     "duration": 0.004934,
     "end_time": "2025-07-19T06:30:27.630266",
     "exception": false,
     "start_time": "2025-07-19T06:30:27.625332",
     "status": "completed"
    },
    "tags": []
   },
   "source": [
    "## Step 1: Load the data\n",
    "\n",
    "In this step, you will load the data.\n",
    "- Load the data file into a DataFrame called `cancer_data`.  \n",
    "- The corresponding filepath is `cancer_filepath`.  \n",
    "- Use the `\"Id\"` column to label the rows."
   ]
  },
  {
   "cell_type": "code",
   "execution_count": 3,
   "id": "c732779d",
   "metadata": {
    "execution": {
     "iopub.execute_input": "2025-07-19T06:30:27.642702Z",
     "iopub.status.busy": "2025-07-19T06:30:27.642323Z",
     "iopub.status.idle": "2025-07-19T06:30:27.661485Z",
     "shell.execute_reply": "2025-07-19T06:30:27.660268Z"
    },
    "papermill": {
     "duration": 0.027031,
     "end_time": "2025-07-19T06:30:27.663235",
     "exception": false,
     "start_time": "2025-07-19T06:30:27.636204",
     "status": "completed"
    },
    "tags": []
   },
   "outputs": [
    {
     "data": {
      "application/javascript": [
       "parent.postMessage({\"jupyterEvent\": \"custom.exercise_interaction\", \"data\": {\"outcomeType\": 1, \"valueTowardsCompletion\": 0.5, \"interactionType\": 1, \"questionType\": 1, \"questionId\": \"1_LoadCancerData\", \"learnToolsVersion\": \"0.3.5\", \"failureMessage\": \"\", \"exceptionClass\": \"\", \"trace\": \"\"}}, \"*\")"
      ],
      "text/plain": [
       "<IPython.core.display.Javascript object>"
      ]
     },
     "metadata": {},
     "output_type": "display_data"
    },
    {
     "data": {
      "text/markdown": [
       "<span style=\"color:#33cc33\">Correct</span>"
      ],
      "text/plain": [
       "Correct"
      ]
     },
     "metadata": {},
     "output_type": "display_data"
    }
   ],
   "source": [
    "# Path of the files to read\n",
    "cancer_filepath = \"../input/cancer.csv\"\n",
    "\n",
    "# Fill in the line below to read the file into a variable cancer_data\n",
    "cancer_data = pd.read_csv(cancer_filepath, index_col=\"Id\")\n",
    " \n",
    "\n",
    "# Run the line below with no changes to check that you've loaded the data correctly\n",
    "step_1.check()"
   ]
  },
  {
   "cell_type": "code",
   "execution_count": 4,
   "id": "608553c3",
   "metadata": {
    "execution": {
     "iopub.execute_input": "2025-07-19T06:30:27.674400Z",
     "iopub.status.busy": "2025-07-19T06:30:27.674072Z",
     "iopub.status.idle": "2025-07-19T06:30:27.678356Z",
     "shell.execute_reply": "2025-07-19T06:30:27.677350Z"
    },
    "papermill": {
     "duration": 0.012071,
     "end_time": "2025-07-19T06:30:27.680377",
     "exception": false,
     "start_time": "2025-07-19T06:30:27.668306",
     "status": "completed"
    },
    "tags": []
   },
   "outputs": [],
   "source": [
    "# Lines below will give you a hint or solution code\n",
    "#step_1.hint()\n",
    "#step_1.solution()"
   ]
  },
  {
   "cell_type": "markdown",
   "id": "5fd421d8",
   "metadata": {
    "papermill": {
     "duration": 0.004536,
     "end_time": "2025-07-19T06:30:27.690177",
     "exception": false,
     "start_time": "2025-07-19T06:30:27.685641",
     "status": "completed"
    },
    "tags": []
   },
   "source": [
    "## Step 2: Review the data\n",
    "\n",
    "Use a Python command to print the first 5 rows of the data."
   ]
  },
  {
   "cell_type": "code",
   "execution_count": 5,
   "id": "00c5c8f6",
   "metadata": {
    "execution": {
     "iopub.execute_input": "2025-07-19T06:30:27.700948Z",
     "iopub.status.busy": "2025-07-19T06:30:27.700581Z",
     "iopub.status.idle": "2025-07-19T06:30:27.708823Z",
     "shell.execute_reply": "2025-07-19T06:30:27.707599Z"
    },
    "papermill": {
     "duration": 0.015688,
     "end_time": "2025-07-19T06:30:27.710488",
     "exception": false,
     "start_time": "2025-07-19T06:30:27.694800",
     "status": "completed"
    },
    "tags": []
   },
   "outputs": [
    {
     "data": {
      "text/plain": [
       "Diagnosis                           M\n",
       "Radius (mean)                   20.57\n",
       "Texture (mean)                  17.77\n",
       "Perimeter (mean)                132.9\n",
       "Area (mean)                    1326.0\n",
       "Smoothness (mean)             0.08474\n",
       "Compactness (mean)            0.07864\n",
       "Concavity (mean)               0.0869\n",
       "Concave points (mean)         0.07017\n",
       "Symmetry (mean)                0.1812\n",
       "Fractal dimension (mean)      0.05667\n",
       "Radius (se)                    0.5435\n",
       "Texture (se)                   0.7339\n",
       "Perimeter (se)                  3.398\n",
       "Area (se)                       74.08\n",
       "Smoothness (se)              0.005225\n",
       "Compactness (se)              0.01308\n",
       "Concavity (se)                 0.0186\n",
       "Concave points (se)            0.0134\n",
       "Symmetry (se)                 0.01389\n",
       "Fractal dimension (se)       0.003532\n",
       "Radius (worst)                  24.99\n",
       "Texture (worst)                 23.41\n",
       "Perimeter (worst)               158.8\n",
       "Area (worst)                   1956.0\n",
       "Smoothness (worst)             0.1238\n",
       "Compactness (worst)            0.1866\n",
       "Concavity (worst)              0.2416\n",
       "Concave points (worst)          0.186\n",
       "Symmetry (worst)                0.275\n",
       "Fractal dimension (worst)     0.08902\n",
       "Name: 842517, dtype: object"
      ]
     },
     "execution_count": 5,
     "metadata": {},
     "output_type": "execute_result"
    }
   ],
   "source": [
    "# Print the first five rows of the data\n",
    "____ # Your code here\n",
    "cancer_data.loc[842517]"
   ]
  },
  {
   "cell_type": "markdown",
   "id": "634b149c",
   "metadata": {
    "papermill": {
     "duration": 0.004652,
     "end_time": "2025-07-19T06:30:27.720275",
     "exception": false,
     "start_time": "2025-07-19T06:30:27.715623",
     "status": "completed"
    },
    "tags": []
   },
   "source": [
    "In the dataset, each row corresponds to a different image.  The dataset has 31 different columns, corresponding to:\n",
    "- 1 column (`'Diagnosis'`) that classifies tumors as either benign (which appears in the dataset as **`B`**) or malignant (__`M`__), and\n",
    "- 30 columns containing different measurements collected from the images.\n",
    "\n",
    "Use the first 5 rows of the data to answer the questions below."
   ]
  },
  {
   "cell_type": "code",
   "execution_count": 6,
   "id": "36db5f50",
   "metadata": {
    "execution": {
     "iopub.execute_input": "2025-07-19T06:30:27.731111Z",
     "iopub.status.busy": "2025-07-19T06:30:27.730799Z",
     "iopub.status.idle": "2025-07-19T06:30:27.739861Z",
     "shell.execute_reply": "2025-07-19T06:30:27.738585Z"
    },
    "papermill": {
     "duration": 0.016572,
     "end_time": "2025-07-19T06:30:27.741568",
     "exception": false,
     "start_time": "2025-07-19T06:30:27.724996",
     "status": "completed"
    },
    "tags": []
   },
   "outputs": [
    {
     "data": {
      "application/javascript": [
       "parent.postMessage({\"jupyterEvent\": \"custom.exercise_interaction\", \"data\": {\"outcomeType\": 1, \"valueTowardsCompletion\": 0.5, \"interactionType\": 1, \"questionType\": 1, \"questionId\": \"2_ReviewData\", \"learnToolsVersion\": \"0.3.5\", \"failureMessage\": \"\", \"exceptionClass\": \"\", \"trace\": \"\"}}, \"*\")"
      ],
      "text/plain": [
       "<IPython.core.display.Javascript object>"
      ]
     },
     "metadata": {},
     "output_type": "display_data"
    },
    {
     "data": {
      "text/markdown": [
       "<span style=\"color:#33cc33\">Correct</span>"
      ],
      "text/plain": [
       "Correct"
      ]
     },
     "metadata": {},
     "output_type": "display_data"
    }
   ],
   "source": [
    "cancer_data.head()\n",
    "# In the first five rows of the data, what is the\n",
    "# largest value for 'Perimeter (mean)'?\n",
    "max_perim = 87.46\n",
    "# What is the value for 'Radius (mean)' for the tumor with Id 8510824?\n",
    "mean_radius = 9.504\n",
    "\n",
    "# Check your answers\n",
    "step_2.check()"
   ]
  },
  {
   "cell_type": "code",
   "execution_count": 7,
   "id": "9e52708d",
   "metadata": {
    "execution": {
     "iopub.execute_input": "2025-07-19T06:30:27.753406Z",
     "iopub.status.busy": "2025-07-19T06:30:27.753072Z",
     "iopub.status.idle": "2025-07-19T06:30:27.758002Z",
     "shell.execute_reply": "2025-07-19T06:30:27.756707Z"
    },
    "papermill": {
     "duration": 0.012998,
     "end_time": "2025-07-19T06:30:27.759772",
     "exception": false,
     "start_time": "2025-07-19T06:30:27.746774",
     "status": "completed"
    },
    "tags": []
   },
   "outputs": [],
   "source": [
    "# Lines below will give you a hint or solution code\n",
    "#step_2.hint()\n",
    "#step_2.solution()"
   ]
  },
  {
   "cell_type": "markdown",
   "id": "395083b8",
   "metadata": {
    "papermill": {
     "duration": 0.004733,
     "end_time": "2025-07-19T06:30:27.769777",
     "exception": false,
     "start_time": "2025-07-19T06:30:27.765044",
     "status": "completed"
    },
    "tags": []
   },
   "source": [
    "## Step 3: Investigating differences"
   ]
  },
  {
   "cell_type": "markdown",
   "id": "4ba898c5",
   "metadata": {
    "papermill": {
     "duration": 0.004754,
     "end_time": "2025-07-19T06:30:27.779393",
     "exception": false,
     "start_time": "2025-07-19T06:30:27.774639",
     "status": "completed"
    },
    "tags": []
   },
   "source": [
    "#### Part A\n",
    "\n",
    "Use the code cell below to create two histograms that show the distribution in values for `'Area (mean)'`, separately for both benign and malignant tumors.  (_To permit easy comparison, create a single figure containing both histograms in the code cell below._)"
   ]
  },
  {
   "cell_type": "code",
   "execution_count": 8,
   "id": "d9e27e15",
   "metadata": {
    "execution": {
     "iopub.execute_input": "2025-07-19T06:30:27.790519Z",
     "iopub.status.busy": "2025-07-19T06:30:27.790200Z",
     "iopub.status.idle": "2025-07-19T06:30:28.253091Z",
     "shell.execute_reply": "2025-07-19T06:30:28.252083Z"
    },
    "papermill": {
     "duration": 0.470607,
     "end_time": "2025-07-19T06:30:28.254855",
     "exception": false,
     "start_time": "2025-07-19T06:30:27.784248",
     "status": "completed"
    },
    "tags": []
   },
   "outputs": [
    {
     "name": "stderr",
     "output_type": "stream",
     "text": [
      "/usr/local/lib/python3.11/dist-packages/seaborn/_oldcore.py:1119: FutureWarning: use_inf_as_na option is deprecated and will be removed in a future version. Convert inf values to NaN before operating instead.\n",
      "  with pd.option_context('mode.use_inf_as_na', True):\n",
      "/usr/local/lib/python3.11/dist-packages/seaborn/_oldcore.py:1075: FutureWarning: When grouping with a length-1 list-like, you will need to pass a length-1 tuple to get_group in a future version of pandas. Pass `(name,)` instead of `name` to silence this warning.\n",
      "  data_subset = grouped_data.get_group(pd_key)\n",
      "/usr/local/lib/python3.11/dist-packages/seaborn/_oldcore.py:1075: FutureWarning: When grouping with a length-1 list-like, you will need to pass a length-1 tuple to get_group in a future version of pandas. Pass `(name,)` instead of `name` to silence this warning.\n",
      "  data_subset = grouped_data.get_group(pd_key)\n",
      "/usr/local/lib/python3.11/dist-packages/seaborn/_oldcore.py:1075: FutureWarning: When grouping with a length-1 list-like, you will need to pass a length-1 tuple to get_group in a future version of pandas. Pass `(name,)` instead of `name` to silence this warning.\n",
      "  data_subset = grouped_data.get_group(pd_key)\n"
     ]
    },
    {
     "data": {
      "application/javascript": [
       "parent.postMessage({\"jupyterEvent\": \"custom.exercise_interaction\", \"data\": {\"outcomeType\": 1, \"valueTowardsCompletion\": 0.5, \"interactionType\": 1, \"questionType\": 2, \"questionId\": \"3.1_PlotHist\", \"learnToolsVersion\": \"0.3.5\", \"failureMessage\": \"\", \"exceptionClass\": \"\", \"trace\": \"\"}}, \"*\")"
      ],
      "text/plain": [
       "<IPython.core.display.Javascript object>"
      ]
     },
     "metadata": {},
     "output_type": "display_data"
    },
    {
     "data": {
      "text/markdown": [
       "<span style=\"color:#33cc33\">Correct</span>"
      ],
      "text/plain": [
       "Correct"
      ]
     },
     "metadata": {},
     "output_type": "display_data"
    },
    {
     "data": {
      "image/png": "[encoded data removed]",
      "text/plain": [
       "<Figure size 640x480 with 1 Axes>"
      ]
     },
     "metadata": {},
     "output_type": "display_data"
    }
   ],
   "source": [
    "# Histograms for benign and maligant tumors\n",
    "sns.histplot(data=cancer_data, x='Area (mean)', hue='Diagnosis')\n",
    "\n",
    "# Check your answer\n",
    "step_3.a.check()"
   ]
  },
  {
   "cell_type": "code",
   "execution_count": 9,
   "id": "4d5137f3",
   "metadata": {
    "execution": {
     "iopub.execute_input": "2025-07-19T06:30:28.269038Z",
     "iopub.status.busy": "2025-07-19T06:30:28.268740Z",
     "iopub.status.idle": "2025-07-19T06:30:28.273753Z",
     "shell.execute_reply": "2025-07-19T06:30:28.272527Z"
    },
    "papermill": {
     "duration": 0.013485,
     "end_time": "2025-07-19T06:30:28.275574",
     "exception": false,
     "start_time": "2025-07-19T06:30:28.262089",
     "status": "completed"
    },
    "tags": []
   },
   "outputs": [],
   "source": [
    "# Lines below will give you a hint or solution code\n",
    "#step_3.a.hint()\n",
    "#step_3.a.solution_plot()"
   ]
  },
  {
   "cell_type": "markdown",
   "id": "a4ad06a1",
   "metadata": {
    "papermill": {
     "duration": 0.00591,
     "end_time": "2025-07-19T06:30:28.287776",
     "exception": false,
     "start_time": "2025-07-19T06:30:28.281866",
     "status": "completed"
    },
    "tags": []
   },
   "source": [
    "#### Part B\n",
    "\n",
    "A researcher approaches you for help with identifying how the `'Area (mean)'` column can be used to understand the difference between benign and malignant tumors.  Based on the histograms above, \n",
    "- Do malignant tumors have higher or lower values for `'Area (mean)'` (relative to benign tumors), on average?\n",
    "- Which tumor type seems to have a larger range of potential values?"
   ]
  },
  {
   "cell_type": "code",
   "execution_count": 10,
   "id": "cf4ee770",
   "metadata": {
    "execution": {
     "iopub.execute_input": "2025-07-19T06:30:28.300443Z",
     "iopub.status.busy": "2025-07-19T06:30:28.300046Z",
     "iopub.status.idle": "2025-07-19T06:30:28.304716Z",
     "shell.execute_reply": "2025-07-19T06:30:28.303866Z"
    },
    "papermill": {
     "duration": 0.012862,
     "end_time": "2025-07-19T06:30:28.306318",
     "exception": false,
     "start_time": "2025-07-19T06:30:28.293456",
     "status": "completed"
    },
    "tags": []
   },
   "outputs": [],
   "source": [
    "#step_3.b.hint()"
   ]
  },
  {
   "cell_type": "code",
   "execution_count": 11,
   "id": "7502965f",
   "metadata": {
    "execution": {
     "iopub.execute_input": "2025-07-19T06:30:28.319519Z",
     "iopub.status.busy": "2025-07-19T06:30:28.319215Z",
     "iopub.status.idle": "2025-07-19T06:30:28.327764Z",
     "shell.execute_reply": "2025-07-19T06:30:28.326776Z"
    },
    "papermill": {
     "duration": 0.017399,
     "end_time": "2025-07-19T06:30:28.329524",
     "exception": false,
     "start_time": "2025-07-19T06:30:28.312125",
     "status": "completed"
    },
    "tags": []
   },
   "outputs": [
    {
     "data": {
      "application/javascript": [
       "parent.postMessage({\"jupyterEvent\": \"custom.exercise_interaction\", \"data\": {\"interactionType\": 3, \"questionType\": 4, \"questionId\": \"3.2_ThinkHist\", \"learnToolsVersion\": \"0.3.5\", \"valueTowardsCompletion\": 0.0, \"failureMessage\": \"\", \"exceptionClass\": \"\", \"trace\": \"\", \"outcomeType\": 4}}, \"*\")"
      ],
      "text/plain": [
       "<IPython.core.display.Javascript object>"
      ]
     },
     "metadata": {},
     "output_type": "display_data"
    },
    {
     "data": {
      "text/markdown": [
       "<span style=\"color:#33cc99\">Solution:</span> Malignant tumors have higher values for `'Area (mean)'`, on average. Malignant tumors have a larger range of potential values."
      ],
      "text/plain": [
       "Solution: Malignant tumors have higher values for `'Area (mean)'`, on average. Malignant tumors have a larger range of potential values."
      ]
     },
     "metadata": {},
     "output_type": "display_data"
    }
   ],
   "source": [
    "# Check your answer (Run this code cell to receive credit!)\n",
    "step_3.b.solution()"
   ]
  },
  {
   "cell_type": "markdown",
   "id": "3e456bdd",
   "metadata": {
    "papermill": {
     "duration": 0.006462,
     "end_time": "2025-07-19T06:30:28.342528",
     "exception": false,
     "start_time": "2025-07-19T06:30:28.336066",
     "status": "completed"
    },
    "tags": []
   },
   "source": [
    "## Step 4: A very useful column\n",
    "\n",
    "#### Part A\n",
    "\n",
    "Use the code cell below to create two KDE plots that show the distribution in values for `'Radius (worst)'`, separately for both benign and malignant tumors.  (_To permit easy comparison, create a single figure containing both KDE plots in the code cell below._)"
   ]
  },
  {
   "cell_type": "code",
   "execution_count": 12,
   "id": "77afe1fc",
   "metadata": {
    "execution": {
     "iopub.execute_input": "2025-07-19T06:30:28.355712Z",
     "iopub.status.busy": "2025-07-19T06:30:28.355355Z",
     "iopub.status.idle": "2025-07-19T06:30:28.363209Z",
     "shell.execute_reply": "2025-07-19T06:30:28.362243Z"
    },
    "papermill": {
     "duration": 0.016505,
     "end_time": "2025-07-19T06:30:28.365042",
     "exception": false,
     "start_time": "2025-07-19T06:30:28.348537",
     "status": "completed"
    },
    "tags": []
   },
   "outputs": [
    {
     "data": {
      "application/javascript": [
       "parent.postMessage({\"jupyterEvent\": \"custom.exercise_interaction\", \"data\": {\"interactionType\": 3, \"questionType\": 2, \"questionId\": \"4.1_PlotThreshold\", \"learnToolsVersion\": \"0.3.5\", \"valueTowardsCompletion\": 0.0, \"failureMessage\": \"\", \"exceptionClass\": \"\", \"trace\": \"\", \"outcomeType\": 4}}, \"*\")"
      ],
      "text/plain": [
       "<IPython.core.display.Javascript object>"
      ]
     },
     "metadata": {},
     "output_type": "display_data"
    },
    {
     "data": {
      "text/markdown": [
       "<span style=\"color:#33cc99\">Solution:</span> \n",
       "```python\n",
       "# KDE plots for benign and malignant tumors\n",
       "sns.kdeplot(data=cancer_data, x='Radius (worst)', hue='Diagnosis', shade=True)\n",
       "\n",
       "```"
      ],
      "text/plain": [
       "Solution: \n",
       "```python\n",
       "# KDE plots for benign and malignant tumors\n",
       "sns.kdeplot(data=cancer_data, x='Radius (worst)', hue='Diagnosis', shade=True)\n",
       "\n",
       "```"
      ]
     },
     "metadata": {},
     "output_type": "display_data"
    }
   ],
   "source": [
    "# KDE plots for benign and malignant tumors\n",
    "____ \n",
    "\n",
    "# Check your answer\n",
    "step_4.a.solution()"
   ]
  },
  {
   "cell_type": "code",
   "execution_count": 13,
   "id": "da0df137",
   "metadata": {
    "execution": {
     "iopub.execute_input": "2025-07-19T06:30:28.378833Z",
     "iopub.status.busy": "2025-07-19T06:30:28.378455Z",
     "iopub.status.idle": "2025-07-19T06:30:28.383084Z",
     "shell.execute_reply": "2025-07-19T06:30:28.381908Z"
    },
    "papermill": {
     "duration": 0.013622,
     "end_time": "2025-07-19T06:30:28.384982",
     "exception": false,
     "start_time": "2025-07-19T06:30:28.371360",
     "status": "completed"
    },
    "tags": []
   },
   "outputs": [],
   "source": [
    "# Lines below will give you a hint or solution code\n",
    "#step_4.a.hint()\n",
    "#step_4.a.solution_plot()"
   ]
  },
  {
   "cell_type": "markdown",
   "id": "c92b7fec",
   "metadata": {
    "papermill": {
     "duration": 0.007317,
     "end_time": "2025-07-19T06:30:28.399361",
     "exception": false,
     "start_time": "2025-07-19T06:30:28.392044",
     "status": "completed"
    },
    "tags": []
   },
   "source": [
    "#### Part B\n",
    "\n",
    "A hospital has recently started using an algorithm that can diagnose tumors with high accuracy.  Given a tumor with a value for `'Radius (worst)'` of 25, do you think the algorithm is more likely to classify the tumor as benign or malignant?"
   ]
  },
  {
   "cell_type": "code",
   "execution_count": 14,
   "id": "ff0b5bdb",
   "metadata": {
    "execution": {
     "iopub.execute_input": "2025-07-19T06:30:28.413934Z",
     "iopub.status.busy": "2025-07-19T06:30:28.413545Z",
     "iopub.status.idle": "2025-07-19T06:30:28.417790Z",
     "shell.execute_reply": "2025-07-19T06:30:28.416819Z"
    },
    "papermill": {
     "duration": 0.013579,
     "end_time": "2025-07-19T06:30:28.419345",
     "exception": false,
     "start_time": "2025-07-19T06:30:28.405766",
     "status": "completed"
    },
    "tags": []
   },
   "outputs": [],
   "source": [
    "#step_4.b.hint()"
   ]
  },
  {
   "cell_type": "code",
   "execution_count": 15,
   "id": "6623db4a",
   "metadata": {
    "execution": {
     "iopub.execute_input": "2025-07-19T06:30:28.432786Z",
     "iopub.status.busy": "2025-07-19T06:30:28.432437Z",
     "iopub.status.idle": "2025-07-19T06:30:28.440233Z",
     "shell.execute_reply": "2025-07-19T06:30:28.439038Z"
    },
    "papermill": {
     "duration": 0.016294,
     "end_time": "2025-07-19T06:30:28.441872",
     "exception": false,
     "start_time": "2025-07-19T06:30:28.425578",
     "status": "completed"
    },
    "tags": []
   },
   "outputs": [
    {
     "data": {
      "application/javascript": [
       "parent.postMessage({\"jupyterEvent\": \"custom.exercise_interaction\", \"data\": {\"interactionType\": 3, \"questionType\": 4, \"questionId\": \"4.2_ThinkThreshold\", \"learnToolsVersion\": \"0.3.5\", \"valueTowardsCompletion\": 0.0, \"failureMessage\": \"\", \"exceptionClass\": \"\", \"trace\": \"\", \"outcomeType\": 4}}, \"*\")"
      ],
      "text/plain": [
       "<IPython.core.display.Javascript object>"
      ]
     },
     "metadata": {},
     "output_type": "display_data"
    },
    {
     "data": {
      "text/markdown": [
       "<span style=\"color:#33cc99\">Solution:</span> The algorithm is more likely to classify the tumor as malignant. This is because the curve for malignant tumors is much higher than the curve for benign tumors around a value of 25 -- and an algorithm that gets high accuracy is likely to make decisions based on this pattern in the data."
      ],
      "text/plain": [
       "Solution: The algorithm is more likely to classify the tumor as malignant. This is because the curve for malignant tumors is much higher than the curve for benign tumors around a value of 25 -- and an algorithm that gets high accuracy is likely to make decisions based on this pattern in the data."
      ]
     },
     "metadata": {},
     "output_type": "display_data"
    }
   ],
   "source": [
    "# Check your answer (Run this code cell to receive credit!)\n",
    "step_4.b.solution()"
   ]
  },
  {
   "cell_type": "markdown",
   "id": "f5222fbf",
   "metadata": {
    "papermill": {
     "duration": 0.006001,
     "end_time": "2025-07-19T06:30:28.454174",
     "exception": false,
     "start_time": "2025-07-19T06:30:28.448173",
     "status": "completed"
    },
    "tags": []
   },
   "source": [
    "## Keep going\n",
    "\n",
    "Review all that you've learned and explore how to further customize your plots in the **[next tutorial](https://www.kaggle.com/alexisbcook/choosing-plot-types-and-custom-styles)**!"
   ]
  },
  {
   "cell_type": "markdown",
   "id": "39b621b7",
   "metadata": {
    "papermill": {
     "duration": 0.006104,
     "end_time": "2025-07-19T06:30:28.466807",
     "exception": false,
     "start_time": "2025-07-19T06:30:28.460703",
     "status": "completed"
    },
    "tags": []
   },
   "source": [
    "---\n",
    "\n",
    "\n",
    "\n",
    "\n",
    "*Have questions or comments? Visit the [course discussion forum](https://www.kaggle.com/learn/data-visualization/discussion) to chat with other learners.*"
   ]
  }
 ],
 "metadata": {
  "kaggle": {
   "accelerator": "none",
   "dataSources": [
    {
     "datasetId": 116573,
     "sourceId": 3551030,
     "sourceType": "datasetVersion"
    }
   ],
   "isGpuEnabled": false,
   "isInternetEnabled": false,
   "language": "python",
   "sourceType": "notebook"
  },
  "kernelspec": {
   "display_name": "Python 3",
   "language": "python",
   "name": "python3"
  },
  "language_info": {
   "codemirror_mode": {
    "name": "ipython",
    "version": 3
   },
   "file_extension": ".py",
   "mimetype": "text/x-python",
   "name": "python",
   "nbconvert_exporter": "python",
   "pygments_lexer": "ipython3",
   "version": "3.11.13"
  },
  "papermill": {
   "default_parameters": {},
   "duration": 12.304325,
   "end_time": "2025-07-19T06:30:29.196608",
   "environment_variables": {},
   "exception": null,
   "input_path": "__notebook__.ipynb",
   "output_path": "__notebook__.ipynb",
   "parameters": {},
   "start_time": "2025-07-19T06:30:16.892283",
   "version": "2.6.0"
  }
 },
 "nbformat": 4,
 "nbformat_minor": 5
}
