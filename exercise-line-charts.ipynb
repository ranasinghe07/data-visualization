{
 "cells": [
  {
   "cell_type": "markdown",
   "id": "86fc581c",
   "metadata": {
    "papermill": {
     "duration": 0.004869,
     "end_time": "2025-07-19T06:23:04.298215",
     "exception": false,
     "start_time": "2025-07-19T06:23:04.293346",
     "status": "completed"
    },
    "tags": []
   },
   "source": [
    "**This notebook is an exercise in the [Data Visualization](https://www.kaggle.com/learn/data-visualization) course.  You can reference the tutorial at [this link](https://www.kaggle.com/alexisbcook/line-charts).**\n",
    "\n",
    "---\n"
   ]
  },
  {
   "cell_type": "markdown",
   "id": "51d5f74e",
   "metadata": {
    "papermill": {
     "duration": 0.003195,
     "end_time": "2025-07-19T06:23:04.305276",
     "exception": false,
     "start_time": "2025-07-19T06:23:04.302081",
     "status": "completed"
    },
    "tags": []
   },
   "source": [
    "In this exercise, you will use your new knowledge to propose a solution to a real-world scenario. To succeed, you will need to import data into Python, answer questions using the data, and generate **line charts** to understand patterns in the data.\n",
    "\n",
    "## Scenario\n",
    "\n",
    "You have recently been hired to manage the museums in the City of Los Angeles. Your first project focuses on the four museums pictured in the images below.\n",
    "\n",
    "![ex1_museums](https://storage.googleapis.com/kaggle-media/learn/images/pFYL8J1.png)\n",
    "\n",
    "You will leverage data from the Los Angeles [Data Portal](https://data.lacity.org/) that tracks monthly visitors to each museum.  \n",
    "\n",
    "![ex1_xlsx](https://storage.googleapis.com/kaggle-media/learn/images/mGWYlym.png)\n",
    "\n",
    "## Setup\n",
    "\n",
    "Run the next cell to import and configure the Python libraries that you need to complete the exercise."
   ]
  },
  {
   "cell_type": "code",
   "execution_count": 1,
   "id": "6f6fa189",
   "metadata": {
    "execution": {
     "iopub.execute_input": "2025-07-19T06:23:04.313647Z",
     "iopub.status.busy": "2025-07-19T06:23:04.313263Z",
     "iopub.status.idle": "2025-07-19T06:23:08.013991Z",
     "shell.execute_reply": "2025-07-19T06:23:08.012965Z"
    },
    "papermill": {
     "duration": 3.706572,
     "end_time": "2025-07-19T06:23:08.015396",
     "exception": false,
     "start_time": "2025-07-19T06:23:04.308824",
     "status": "completed"
    },
    "tags": []
   },
   "outputs": [
    {
     "name": "stdout",
     "output_type": "stream",
     "text": [
      "Setup Complete\n"
     ]
    }
   ],
   "source": [
    "import pandas as pd\n",
    "pd.plotting.register_matplotlib_converters()\n",
    "import matplotlib.pyplot as plt\n",
    "%matplotlib inline\n",
    "import seaborn as sns\n",
    "print(\"Setup Complete\")"
   ]
  },
  {
   "cell_type": "markdown",
   "id": "0fda795c",
   "metadata": {
    "papermill": {
     "duration": 0.003428,
     "end_time": "2025-07-19T06:23:08.022554",
     "exception": false,
     "start_time": "2025-07-19T06:23:08.019126",
     "status": "completed"
    },
    "tags": []
   },
   "source": [
    "The questions below will give you feedback on your work. Run the following cell to set up the feedback system."
   ]
  },
  {
   "cell_type": "code",
   "execution_count": 2,
   "id": "bcb47aac",
   "metadata": {
    "execution": {
     "iopub.execute_input": "2025-07-19T06:23:08.030776Z",
     "iopub.status.busy": "2025-07-19T06:23:08.030359Z",
     "iopub.status.idle": "2025-07-19T06:23:08.196078Z",
     "shell.execute_reply": "2025-07-19T06:23:08.194978Z"
    },
    "papermill": {
     "duration": 0.171529,
     "end_time": "2025-07-19T06:23:08.197541",
     "exception": false,
     "start_time": "2025-07-19T06:23:08.026012",
     "status": "completed"
    },
    "tags": []
   },
   "outputs": [
    {
     "name": "stdout",
     "output_type": "stream",
     "text": [
      "Setup Complete\n"
     ]
    }
   ],
   "source": [
    "# Set up code checking\n",
    "import os\n",
    "if not os.path.exists(\"../input/museum_visitors.csv\"):\n",
    "    os.symlink(\"../input/data-for-datavis/museum_visitors.csv\", \"../input/museum_visitors.csv\") \n",
    "from learntools.core import binder\n",
    "binder.bind(globals())\n",
    "from learntools.data_viz_to_coder.ex2 import *\n",
    "print(\"Setup Complete\")"
   ]
  },
  {
   "cell_type": "markdown",
   "id": "c457cb96",
   "metadata": {
    "papermill": {
     "duration": 0.003434,
     "end_time": "2025-07-19T06:23:08.204868",
     "exception": false,
     "start_time": "2025-07-19T06:23:08.201434",
     "status": "completed"
    },
    "tags": []
   },
   "source": [
    "## Step 1: Load the data\n",
    "\n",
    "Your first assignment is to read the LA Museum Visitors data file into `museum_data`.  Note that:\n",
    "- The filepath to the dataset is stored as `museum_filepath`.  Please **do not** change the provided value of the filepath.\n",
    "- The name of the column to use as row labels is `\"Date\"`.  (This can be seen in cell A1 when the file is opened in Excel.)\n",
    "\n",
    "To help with this, you may find it useful to revisit some relevant code from the tutorial, which we have pasted below:\n",
    "\n",
    "```python\n",
    "# Path of the file to read\n",
    "spotify_filepath = \"../input/spotify.csv\"\n",
    "\n",
    "# Read the file into a variable spotify_data\n",
    "spotify_data = pd.read_csv(spotify_filepath, index_col=\"Date\", parse_dates=True)\n",
    "```\n",
    "\n",
    "The code you need to write now looks very similar!"
   ]
  },
  {
   "cell_type": "code",
   "execution_count": 3,
   "id": "f44cb3aa",
   "metadata": {
    "execution": {
     "iopub.execute_input": "2025-07-19T06:23:08.213706Z",
     "iopub.status.busy": "2025-07-19T06:23:08.213405Z",
     "iopub.status.idle": "2025-07-19T06:23:08.221650Z",
     "shell.execute_reply": "2025-07-19T06:23:08.220904Z"
    },
    "papermill": {
     "duration": 0.014391,
     "end_time": "2025-07-19T06:23:08.223073",
     "exception": false,
     "start_time": "2025-07-19T06:23:08.208682",
     "status": "completed"
    },
    "tags": []
   },
   "outputs": [
    {
     "data": {
      "application/javascript": [
       "parent.postMessage({\"jupyterEvent\": \"custom.exercise_interaction\", \"data\": {\"outcomeType\": 4, \"interactionType\": 1, \"questionType\": 1, \"questionId\": \"1_LoadMuseumData\", \"learnToolsVersion\": \"0.3.5\", \"valueTowardsCompletion\": 0.0, \"failureMessage\": \"\", \"exceptionClass\": \"\", \"trace\": \"\"}}, \"*\")"
      ],
      "text/plain": [
       "<IPython.core.display.Javascript object>"
      ]
     },
     "metadata": {},
     "output_type": "display_data"
    },
    {
     "data": {
      "text/markdown": [
       "<span style=\"color:#ccaa33\">Check:</span> When you've updated the starter code, `check()` will tell you whether your code is correct. You need to update the code that creates variable `museum_data`"
      ],
      "text/plain": [
       "Check: When you've updated the starter code, `check()` will tell you whether your code is correct. You need to update the code that creates variable `museum_data`"
      ]
     },
     "metadata": {},
     "output_type": "display_data"
    }
   ],
   "source": [
    "# Path of the file to read\n",
    "museum_filepath = \"../input/museum_visitors.csv\"\n",
    "\n",
    "# Fill in the line below to read the file into a variable museum_data\n",
    "museum_data = ____\n",
    "\n",
    "# Run the line below with no changes to check that you've loaded the data correctly\n",
    "step_1.check()"
   ]
  },
  {
   "cell_type": "code",
   "execution_count": 4,
   "id": "d99df015",
   "metadata": {
    "execution": {
     "iopub.execute_input": "2025-07-19T06:23:08.232302Z",
     "iopub.status.busy": "2025-07-19T06:23:08.231959Z",
     "iopub.status.idle": "2025-07-19T06:23:08.235792Z",
     "shell.execute_reply": "2025-07-19T06:23:08.235131Z"
    },
    "papermill": {
     "duration": 0.009876,
     "end_time": "2025-07-19T06:23:08.237043",
     "exception": false,
     "start_time": "2025-07-19T06:23:08.227167",
     "status": "completed"
    },
    "tags": []
   },
   "outputs": [],
   "source": [
    "# Uncomment the line below to receive a hint\n",
    "#step_1.hint()\n",
    "# Uncomment the line below to see the solution\n",
    "#step_1.solution()"
   ]
  },
  {
   "cell_type": "markdown",
   "id": "c164abe2",
   "metadata": {
    "papermill": {
     "duration": 0.003516,
     "end_time": "2025-07-19T06:23:08.245354",
     "exception": false,
     "start_time": "2025-07-19T06:23:08.241838",
     "status": "completed"
    },
    "tags": []
   },
   "source": [
    "## Step 2: Review the data\n",
    "\n",
    "Use a Python command to print the last 5 rows of the data."
   ]
  },
  {
   "cell_type": "code",
   "execution_count": 5,
   "id": "d10f6781",
   "metadata": {
    "execution": {
     "iopub.execute_input": "2025-07-19T06:23:08.253852Z",
     "iopub.status.busy": "2025-07-19T06:23:08.253548Z",
     "iopub.status.idle": "2025-07-19T06:23:08.258415Z",
     "shell.execute_reply": "2025-07-19T06:23:08.257678Z"
    },
    "papermill": {
     "duration": 0.010645,
     "end_time": "2025-07-19T06:23:08.259649",
     "exception": false,
     "start_time": "2025-07-19T06:23:08.249004",
     "status": "completed"
    },
    "tags": []
   },
   "outputs": [
    {
     "data": {
      "text/markdown": [],
      "text/plain": [
       "<learntools.core.constants.PlaceholderValue at 0x7a0503f43850>"
      ]
     },
     "execution_count": 5,
     "metadata": {},
     "output_type": "execute_result"
    }
   ],
   "source": [
    "# Print the last five rows of the data \n",
    "____ # Your code here"
   ]
  },
  {
   "cell_type": "markdown",
   "id": "3b660689",
   "metadata": {
    "papermill": {
     "duration": 0.003568,
     "end_time": "2025-07-19T06:23:08.267067",
     "exception": false,
     "start_time": "2025-07-19T06:23:08.263499",
     "status": "completed"
    },
    "tags": []
   },
   "source": [
    "The last row (for `2018-11-01`) tracks the number of visitors to each museum in November 2018, the next-to-last row (for `2018-10-01`) tracks the number of visitors to each museum in October 2018, _and so on_.\n",
    "\n",
    "Use the last 5 rows of the data to answer the questions below."
   ]
  },
  {
   "cell_type": "code",
   "execution_count": 6,
   "id": "8ffa1346",
   "metadata": {
    "execution": {
     "iopub.execute_input": "2025-07-19T06:23:08.275866Z",
     "iopub.status.busy": "2025-07-19T06:23:08.275580Z",
     "iopub.status.idle": "2025-07-19T06:23:08.282517Z",
     "shell.execute_reply": "2025-07-19T06:23:08.281819Z"
    },
    "papermill": {
     "duration": 0.012826,
     "end_time": "2025-07-19T06:23:08.283813",
     "exception": false,
     "start_time": "2025-07-19T06:23:08.270987",
     "status": "completed"
    },
    "tags": []
   },
   "outputs": [
    {
     "data": {
      "application/javascript": [
       "parent.postMessage({\"jupyterEvent\": \"custom.exercise_interaction\", \"data\": {\"outcomeType\": 4, \"interactionType\": 1, \"questionType\": 1, \"questionId\": \"2_ReviewData\", \"learnToolsVersion\": \"0.3.5\", \"valueTowardsCompletion\": 0.0, \"failureMessage\": \"\", \"exceptionClass\": \"\", \"trace\": \"\"}}, \"*\")"
      ],
      "text/plain": [
       "<IPython.core.display.Javascript object>"
      ]
     },
     "metadata": {},
     "output_type": "display_data"
    },
    {
     "data": {
      "text/markdown": [
       "<span style=\"color:#ccaa33\">Check:</span> When you've updated the starter code, `check()` will tell you whether your code is correct. You need to update the code that creates variables `ca_museum_jul18`, `avila_oct18`"
      ],
      "text/plain": [
       "Check: When you've updated the starter code, `check()` will tell you whether your code is correct. You need to update the code that creates variables `ca_museum_jul18`, `avila_oct18`"
      ]
     },
     "metadata": {},
     "output_type": "display_data"
    }
   ],
   "source": [
    "# Fill in the line below: How many visitors did the Chinese American Museum \n",
    "# receive in July 2018?\n",
    "ca_museum_jul18 = ____ \n",
    "\n",
    "# Fill in the line below: In October 2018, how many more visitors did Avila \n",
    "# Adobe receive than the Firehouse Museum?\n",
    "avila_oct18 = ____\n",
    "\n",
    "# Check your answers\n",
    "step_2.check()"
   ]
  },
  {
   "cell_type": "code",
   "execution_count": 7,
   "id": "6657160c",
   "metadata": {
    "execution": {
     "iopub.execute_input": "2025-07-19T06:23:08.293656Z",
     "iopub.status.busy": "2025-07-19T06:23:08.292922Z",
     "iopub.status.idle": "2025-07-19T06:23:08.296590Z",
     "shell.execute_reply": "2025-07-19T06:23:08.295884Z"
    },
    "papermill": {
     "duration": 0.009851,
     "end_time": "2025-07-19T06:23:08.297971",
     "exception": false,
     "start_time": "2025-07-19T06:23:08.288120",
     "status": "completed"
    },
    "tags": []
   },
   "outputs": [],
   "source": [
    "# Lines below will give you a hint or solution code\n",
    "#step_2.hint()\n",
    "#step_2.solution()"
   ]
  },
  {
   "cell_type": "markdown",
   "id": "1ffaaa30",
   "metadata": {
    "papermill": {
     "duration": 0.00382,
     "end_time": "2025-07-19T06:23:08.305895",
     "exception": false,
     "start_time": "2025-07-19T06:23:08.302075",
     "status": "completed"
    },
    "tags": []
   },
   "source": [
    "## Step 3: Convince the museum board \n",
    "\n",
    "The Firehouse Museum claims they ran an event in 2014 that brought an incredible number of visitors, and that they should get extra budget to run a similar event again.  The other museums think these types of events aren't that important, and budgets should be split purely based on recent visitors on an average day.  \n",
    "\n",
    "To show the museum board how the event compared to regular traffic at each museum, create a line chart that shows how the number of visitors to each museum evolved over time.  Your figure should have four lines (one for each museum).\n",
    "\n",
    "> **(Optional) Note**: If you have some prior experience with plotting figures in Python, you might be familiar with the `plt.show()` command.  If you decide to use this command, please place it **after** the line of code that checks your answer (in this case, place it after `step_3.check()` below) -- otherwise, the checking code will return an error!"
   ]
  },
  {
   "cell_type": "code",
   "execution_count": 8,
   "id": "e20b91c2",
   "metadata": {
    "execution": {
     "iopub.execute_input": "2025-07-19T06:23:08.314761Z",
     "iopub.status.busy": "2025-07-19T06:23:08.314481Z",
     "iopub.status.idle": "2025-07-19T06:23:08.341842Z",
     "shell.execute_reply": "2025-07-19T06:23:08.341098Z"
    },
    "papermill": {
     "duration": 0.033552,
     "end_time": "2025-07-19T06:23:08.343320",
     "exception": false,
     "start_time": "2025-07-19T06:23:08.309768",
     "status": "completed"
    },
    "tags": []
   },
   "outputs": [
    {
     "data": {
      "application/javascript": [
       "parent.postMessage({\"jupyterEvent\": \"custom.exercise_interaction\", \"data\": {\"outcomeType\": 2, \"failureMessage\": \"After you've written code to create a line chart, `check()` will tell you whether your code is correct.\", \"interactionType\": 1, \"questionType\": 2, \"questionId\": \"3_PlotAll\", \"learnToolsVersion\": \"0.3.5\", \"valueTowardsCompletion\": 0.0, \"exceptionClass\": \"\", \"trace\": \"\"}}, \"*\")"
      ],
      "text/plain": [
       "<IPython.core.display.Javascript object>"
      ]
     },
     "metadata": {},
     "output_type": "display_data"
    },
    {
     "data": {
      "text/markdown": [
       "<span style=\"color:#cc3333\">Incorrect:</span> After you've written code to create a line chart, `check()` will tell you whether your code is correct."
      ],
      "text/plain": [
       "Incorrect: After you've written code to create a line chart, `check()` will tell you whether your code is correct."
      ]
     },
     "metadata": {},
     "output_type": "display_data"
    },
    {
     "data": {
      "text/plain": [
       "<Figure size 640x480 with 0 Axes>"
      ]
     },
     "metadata": {},
     "output_type": "display_data"
    }
   ],
   "source": [
    "# Line chart showing the number of visitors to each museum over time\n",
    "____ # Your code here\n",
    "\n",
    "# Check your answer\n",
    "step_3.check()"
   ]
  },
  {
   "cell_type": "code",
   "execution_count": 9,
   "id": "d4045be0",
   "metadata": {
    "execution": {
     "iopub.execute_input": "2025-07-19T06:23:08.353609Z",
     "iopub.status.busy": "2025-07-19T06:23:08.353320Z",
     "iopub.status.idle": "2025-07-19T06:23:08.357159Z",
     "shell.execute_reply": "2025-07-19T06:23:08.356309Z"
    },
    "papermill": {
     "duration": 0.010657,
     "end_time": "2025-07-19T06:23:08.358682",
     "exception": false,
     "start_time": "2025-07-19T06:23:08.348025",
     "status": "completed"
    },
    "tags": []
   },
   "outputs": [],
   "source": [
    "# Lines below will give you a hint or solution code\n",
    "#step_3.hint()\n",
    "#step_3.solution_plot()"
   ]
  },
  {
   "cell_type": "markdown",
   "id": "8976bdee",
   "metadata": {
    "papermill": {
     "duration": 0.004217,
     "end_time": "2025-07-19T06:23:08.367485",
     "exception": false,
     "start_time": "2025-07-19T06:23:08.363268",
     "status": "completed"
    },
    "tags": []
   },
   "source": [
    "## Step 4: Assess seasonality\n",
    "\n",
    "When meeting with the employees at Avila Adobe, you hear that one major pain point is that the number of museum visitors varies greatly with the seasons, with low seasons (when the employees are perfectly staffed and happy) and also high seasons (when the employees are understaffed and stressed).  You realize that if you can predict these high and low seasons, you can plan ahead to hire some additional seasonal employees to help out with the extra work.\n",
    "\n",
    "#### Part A\n",
    "Create a line chart that shows how the number of visitors to Avila Adobe has evolved over time.  (_If your code returns an error, the first thing that you should check is that you've spelled the name of the column correctly!  You must write the name of the column exactly as it appears in the dataset._)"
   ]
  },
  {
   "cell_type": "code",
   "execution_count": 10,
   "id": "362f0219",
   "metadata": {
    "execution": {
     "iopub.execute_input": "2025-07-19T06:23:08.377584Z",
     "iopub.status.busy": "2025-07-19T06:23:08.377273Z",
     "iopub.status.idle": "2025-07-19T06:23:08.388914Z",
     "shell.execute_reply": "2025-07-19T06:23:08.388093Z"
    },
    "papermill": {
     "duration": 0.018558,
     "end_time": "2025-07-19T06:23:08.390475",
     "exception": false,
     "start_time": "2025-07-19T06:23:08.371917",
     "status": "completed"
    },
    "tags": []
   },
   "outputs": [
    {
     "data": {
      "application/javascript": [
       "parent.postMessage({\"jupyterEvent\": \"custom.exercise_interaction\", \"data\": {\"outcomeType\": 2, \"failureMessage\": \"After you've written code to create a line chart, `check()` will tell you whether your code is correct.\", \"interactionType\": 1, \"questionType\": 2, \"questionId\": \"4.1_PlotAvila\", \"learnToolsVersion\": \"0.3.5\", \"valueTowardsCompletion\": 0.0, \"exceptionClass\": \"\", \"trace\": \"\"}}, \"*\")"
      ],
      "text/plain": [
       "<IPython.core.display.Javascript object>"
      ]
     },
     "metadata": {},
     "output_type": "display_data"
    },
    {
     "data": {
      "text/markdown": [
       "<span style=\"color:#cc3333\">Incorrect:</span> After you've written code to create a line chart, `check()` will tell you whether your code is correct."
      ],
      "text/plain": [
       "Incorrect: After you've written code to create a line chart, `check()` will tell you whether your code is correct."
      ]
     },
     "metadata": {},
     "output_type": "display_data"
    },
    {
     "data": {
      "text/plain": [
       "<Figure size 640x480 with 0 Axes>"
      ]
     },
     "metadata": {},
     "output_type": "display_data"
    }
   ],
   "source": [
    "# Line plot showing the number of visitors to Avila Adobe over time\n",
    "____ # Your code here\n",
    "\n",
    "# Check your answer\n",
    "step_4.a.check()"
   ]
  },
  {
   "cell_type": "code",
   "execution_count": 11,
   "id": "cfd6d8f1",
   "metadata": {
    "execution": {
     "iopub.execute_input": "2025-07-19T06:23:08.401508Z",
     "iopub.status.busy": "2025-07-19T06:23:08.400801Z",
     "iopub.status.idle": "2025-07-19T06:23:08.404697Z",
     "shell.execute_reply": "2025-07-19T06:23:08.403923Z"
    },
    "papermill": {
     "duration": 0.010611,
     "end_time": "2025-07-19T06:23:08.405922",
     "exception": false,
     "start_time": "2025-07-19T06:23:08.395311",
     "status": "completed"
    },
    "tags": []
   },
   "outputs": [],
   "source": [
    "# Lines below will give you a hint or solution code\n",
    "#step_4.a.hint()\n",
    "#step_4.a.solution_plot()"
   ]
  },
  {
   "cell_type": "markdown",
   "id": "27b5dcdf",
   "metadata": {
    "papermill": {
     "duration": 0.004799,
     "end_time": "2025-07-19T06:23:08.415452",
     "exception": false,
     "start_time": "2025-07-19T06:23:08.410653",
     "status": "completed"
    },
    "tags": []
   },
   "source": [
    "#### Part B\n",
    "\n",
    "Does Avila Adobe get more visitors:\n",
    "- in September-February (in LA, the fall and winter months), or \n",
    "- in March-August (in LA, the spring and summer)?  \n",
    "\n",
    "Using this information, when should the museum staff additional seasonal employees?"
   ]
  },
  {
   "cell_type": "code",
   "execution_count": 12,
   "id": "0f495087",
   "metadata": {
    "execution": {
     "iopub.execute_input": "2025-07-19T06:23:08.425976Z",
     "iopub.status.busy": "2025-07-19T06:23:08.425645Z",
     "iopub.status.idle": "2025-07-19T06:23:08.429689Z",
     "shell.execute_reply": "2025-07-19T06:23:08.428851Z"
    },
    "papermill": {
     "duration": 0.011361,
     "end_time": "2025-07-19T06:23:08.431456",
     "exception": false,
     "start_time": "2025-07-19T06:23:08.420095",
     "status": "completed"
    },
    "tags": []
   },
   "outputs": [],
   "source": [
    "#step_4.b.hint()"
   ]
  },
  {
   "cell_type": "code",
   "execution_count": 13,
   "id": "55371665",
   "metadata": {
    "execution": {
     "iopub.execute_input": "2025-07-19T06:23:08.442495Z",
     "iopub.status.busy": "2025-07-19T06:23:08.442233Z",
     "iopub.status.idle": "2025-07-19T06:23:08.448757Z",
     "shell.execute_reply": "2025-07-19T06:23:08.447970Z"
    },
    "papermill": {
     "duration": 0.013742,
     "end_time": "2025-07-19T06:23:08.450094",
     "exception": false,
     "start_time": "2025-07-19T06:23:08.436352",
     "status": "completed"
    },
    "tags": []
   },
   "outputs": [
    {
     "data": {
      "application/javascript": [
       "parent.postMessage({\"jupyterEvent\": \"custom.exercise_interaction\", \"data\": {\"interactionType\": 3, \"questionType\": 4, \"questionId\": \"4.2_ThinkAvila\", \"learnToolsVersion\": \"0.3.5\", \"valueTowardsCompletion\": 0.0, \"failureMessage\": \"\", \"exceptionClass\": \"\", \"trace\": \"\", \"outcomeType\": 4}}, \"*\")"
      ],
      "text/plain": [
       "<IPython.core.display.Javascript object>"
      ]
     },
     "metadata": {},
     "output_type": "display_data"
    },
    {
     "data": {
      "text/markdown": [
       "<span style=\"color:#33cc99\">Solution:</span> The line chart generally dips to relatively low values around the early part of each year (in December and January), and reaches its highest values in the middle of the year (especially around May and June).  Thus, Avila Adobe usually gets more visitors in March-August (or the spring and summer months).  With this in mind, Avila Adobe could definitely benefit from hiring more seasonal employees to help with the extra work in March-August (the spring and summer)!"
      ],
      "text/plain": [
       "Solution: The line chart generally dips to relatively low values around the early part of each year (in December and January), and reaches its highest values in the middle of the year (especially around May and June).  Thus, Avila Adobe usually gets more visitors in March-August (or the spring and summer months).  With this in mind, Avila Adobe could definitely benefit from hiring more seasonal employees to help with the extra work in March-August (the spring and summer)!"
      ]
     },
     "metadata": {},
     "output_type": "display_data"
    }
   ],
   "source": [
    "# Check your answer (Run this code cell to receive credit!)\n",
    "step_4.b.solution()"
   ]
  },
  {
   "cell_type": "markdown",
   "id": "c7e82891",
   "metadata": {
    "papermill": {
     "duration": 0.004676,
     "end_time": "2025-07-19T06:23:08.459970",
     "exception": false,
     "start_time": "2025-07-19T06:23:08.455294",
     "status": "completed"
    },
    "tags": []
   },
   "source": [
    "# Keep going\n",
    "\n",
    "Move on to learn about **[bar charts and heatmaps](https://www.kaggle.com/alexisbcook/bar-charts-and-heatmaps)** with a new dataset!"
   ]
  },
  {
   "cell_type": "markdown",
   "id": "1ba3f03b",
   "metadata": {
    "papermill": {
     "duration": 0.004859,
     "end_time": "2025-07-19T06:23:08.470265",
     "exception": false,
     "start_time": "2025-07-19T06:23:08.465406",
     "status": "completed"
    },
    "tags": []
   },
   "source": [
    "---\n",
    "\n",
    "\n",
    "\n",
    "\n",
    "*Have questions or comments? Visit the [course discussion forum](https://www.kaggle.com/learn/data-visualization/discussion) to chat with other learners.*"
   ]
  }
 ],
 "metadata": {
  "kaggle": {
   "accelerator": "none",
   "dataSources": [
    {
     "datasetId": 116573,
     "sourceId": 3551030,
     "sourceType": "datasetVersion"
    }
   ],
   "isGpuEnabled": false,
   "isInternetEnabled": false,
   "language": "python",
   "sourceType": "notebook"
  },
  "kernelspec": {
   "display_name": "Python 3",
   "language": "python",
   "name": "python3"
  },
  "language_info": {
   "codemirror_mode": {
    "name": "ipython",
    "version": 3
   },
   "file_extension": ".py",
   "mimetype": "text/x-python",
   "name": "python",
   "nbconvert_exporter": "python",
   "pygments_lexer": "ipython3",
   "version": "3.11.13"
  },
  "papermill": {
   "default_parameters": {},
   "duration": 9.408784,
   "end_time": "2025-07-19T06:23:09.094565",
   "environment_variables": {},
   "exception": null,
   "input_path": "__notebook__.ipynb",
   "output_path": "__notebook__.ipynb",
   "parameters": {},
   "start_time": "2025-07-19T06:22:59.685781",
   "version": "2.6.0"
  }
 },
 "nbformat": 4,
 "nbformat_minor": 5
}
