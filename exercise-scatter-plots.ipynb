{
 "cells": [
  {
   "cell_type": "markdown",
   "id": "bfdbef80",
   "metadata": {
    "papermill": {
     "duration": 0.006914,
     "end_time": "2025-07-19T06:28:38.648540",
     "exception": false,
     "start_time": "2025-07-19T06:28:38.641626",
     "status": "completed"
    },
    "tags": []
   },
   "source": [
    "**This notebook is an exercise in the [Data Visualization](https://www.kaggle.com/learn/data-visualization) course.  You can reference the tutorial at [this link](https://www.kaggle.com/alexisbcook/scatter-plots).**\n",
    "\n",
    "---\n"
   ]
  },
  {
   "cell_type": "markdown",
   "id": "204f480a",
   "metadata": {
    "papermill": {
     "duration": 0.005611,
     "end_time": "2025-07-19T06:28:38.660425",
     "exception": false,
     "start_time": "2025-07-19T06:28:38.654814",
     "status": "completed"
    },
    "tags": []
   },
   "source": [
    "In this exercise, you will use your new knowledge to propose a solution to a real-world scenario.  To succeed, you will need to import data into Python, answer questions using the data, and generate **scatter plots** to understand patterns in the data.\n",
    "\n",
    "## Scenario\n",
    "\n",
    "You work for a major candy producer, and your goal is to write a report that your company can use to guide the design of its next product.  Soon after starting your research, you stumble across this [very interesting dataset](https://fivethirtyeight.com/features/the-ultimate-halloween-candy-power-ranking/) containing results from a fun survey to crowdsource favorite candies.\n",
    "\n",
    "## Setup\n",
    "\n",
    "Run the next cell to import and configure the Python libraries that you need to complete the exercise."
   ]
  },
  {
   "cell_type": "code",
   "execution_count": 1,
   "id": "5dba0a84",
   "metadata": {
    "execution": {
     "iopub.execute_input": "2025-07-19T06:28:38.673642Z",
     "iopub.status.busy": "2025-07-19T06:28:38.673226Z",
     "iopub.status.idle": "2025-07-19T06:28:42.258865Z",
     "shell.execute_reply": "2025-07-19T06:28:42.257681Z"
    },
    "papermill": {
     "duration": 3.593917,
     "end_time": "2025-07-19T06:28:42.260288",
     "exception": false,
     "start_time": "2025-07-19T06:28:38.666371",
     "status": "completed"
    },
    "tags": []
   },
   "outputs": [
    {
     "name": "stdout",
     "output_type": "stream",
     "text": [
      "Setup Complete\n"
     ]
    }
   ],
   "source": [
    "import pandas as pd\n",
    "pd.plotting.register_matplotlib_converters()\n",
    "import matplotlib.pyplot as plt\n",
    "%matplotlib inline\n",
    "import seaborn as sns\n",
    "print(\"Setup Complete\")"
   ]
  },
  {
   "cell_type": "markdown",
   "id": "c45c67c7",
   "metadata": {
    "papermill": {
     "duration": 0.006018,
     "end_time": "2025-07-19T06:28:42.272501",
     "exception": false,
     "start_time": "2025-07-19T06:28:42.266483",
     "status": "completed"
    },
    "tags": []
   },
   "source": [
    "The questions below will give you feedback on your work. Run the following cell to set up our feedback system."
   ]
  },
  {
   "cell_type": "code",
   "execution_count": 2,
   "id": "404b8a25",
   "metadata": {
    "execution": {
     "iopub.execute_input": "2025-07-19T06:28:42.286832Z",
     "iopub.status.busy": "2025-07-19T06:28:42.286411Z",
     "iopub.status.idle": "2025-07-19T06:28:42.360221Z",
     "shell.execute_reply": "2025-07-19T06:28:42.359286Z"
    },
    "papermill": {
     "duration": 0.083002,
     "end_time": "2025-07-19T06:28:42.361641",
     "exception": false,
     "start_time": "2025-07-19T06:28:42.278639",
     "status": "completed"
    },
    "tags": []
   },
   "outputs": [
    {
     "name": "stdout",
     "output_type": "stream",
     "text": [
      "Setup Complete\n"
     ]
    }
   ],
   "source": [
    "# Set up code checking\n",
    "import os\n",
    "if not os.path.exists(\"../input/candy.csv\"):\n",
    "    os.symlink(\"../input/data-for-datavis/candy.csv\", \"../input/candy.csv\") \n",
    "from learntools.core import binder\n",
    "binder.bind(globals())\n",
    "from learntools.data_viz_to_coder.ex4 import *\n",
    "print(\"Setup Complete\")"
   ]
  },
  {
   "cell_type": "markdown",
   "id": "5094d65d",
   "metadata": {
    "papermill": {
     "duration": 0.005656,
     "end_time": "2025-07-19T06:28:42.373404",
     "exception": false,
     "start_time": "2025-07-19T06:28:42.367748",
     "status": "completed"
    },
    "tags": []
   },
   "source": [
    "## Step 1: Load the Data\n",
    "\n",
    "Read the candy data file into `candy_data`.  Use the `\"id\"` column to label the rows."
   ]
  },
  {
   "cell_type": "code",
   "execution_count": 3,
   "id": "85d40f04",
   "metadata": {
    "execution": {
     "iopub.execute_input": "2025-07-19T06:28:42.386629Z",
     "iopub.status.busy": "2025-07-19T06:28:42.386340Z",
     "iopub.status.idle": "2025-07-19T06:28:42.400910Z",
     "shell.execute_reply": "2025-07-19T06:28:42.400032Z"
    },
    "papermill": {
     "duration": 0.022831,
     "end_time": "2025-07-19T06:28:42.402235",
     "exception": false,
     "start_time": "2025-07-19T06:28:42.379404",
     "status": "completed"
    },
    "tags": []
   },
   "outputs": [
    {
     "data": {
      "application/javascript": [
       "parent.postMessage({\"jupyterEvent\": \"custom.exercise_interaction\", \"data\": {\"outcomeType\": 1, \"valueTowardsCompletion\": 0.3333333333333333, \"interactionType\": 1, \"questionType\": 1, \"questionId\": \"1_LoadData\", \"learnToolsVersion\": \"0.3.5\", \"failureMessage\": \"\", \"exceptionClass\": \"\", \"trace\": \"\"}}, \"*\")"
      ],
      "text/plain": [
       "<IPython.core.display.Javascript object>"
      ]
     },
     "metadata": {},
     "output_type": "display_data"
    },
    {
     "data": {
      "text/markdown": [
       "<span style=\"color:#33cc33\">Correct</span>"
      ],
      "text/plain": [
       "Correct"
      ]
     },
     "metadata": {},
     "output_type": "display_data"
    }
   ],
   "source": [
    "# Path of the file to read\n",
    "candy_filepath = \"../input/candy.csv\"\n",
    "\n",
    "# Fill in the line below to read the file into a variable candy_data\n",
    "candy_data = pd.read_csv(candy_filepath, index_col=\"id\")\n",
    "\n",
    "\n",
    "# Run the line below with no changes to check that you've loaded the data correctly\n",
    "step_1.check()"
   ]
  },
  {
   "cell_type": "code",
   "execution_count": 4,
   "id": "a15c5b4d",
   "metadata": {
    "execution": {
     "iopub.execute_input": "2025-07-19T06:28:42.416263Z",
     "iopub.status.busy": "2025-07-19T06:28:42.415899Z",
     "iopub.status.idle": "2025-07-19T06:28:42.419944Z",
     "shell.execute_reply": "2025-07-19T06:28:42.419036Z"
    },
    "papermill": {
     "duration": 0.01265,
     "end_time": "2025-07-19T06:28:42.421461",
     "exception": false,
     "start_time": "2025-07-19T06:28:42.408811",
     "status": "completed"
    },
    "tags": []
   },
   "outputs": [],
   "source": [
    "# Lines below will give you a hint or solution code\n",
    "#step_1.hint()\n",
    "#step_1.solution()"
   ]
  },
  {
   "cell_type": "markdown",
   "id": "6737f921",
   "metadata": {
    "papermill": {
     "duration": 0.006005,
     "end_time": "2025-07-19T06:28:42.433794",
     "exception": false,
     "start_time": "2025-07-19T06:28:42.427789",
     "status": "completed"
    },
    "tags": []
   },
   "source": [
    "## Step 2: Review the data\n",
    "\n",
    "Use a Python command to print the first five rows of the data."
   ]
  },
  {
   "cell_type": "code",
   "execution_count": 5,
   "id": "46991845",
   "metadata": {
    "execution": {
     "iopub.execute_input": "2025-07-19T06:28:42.447579Z",
     "iopub.status.busy": "2025-07-19T06:28:42.447205Z",
     "iopub.status.idle": "2025-07-19T06:28:42.471647Z",
     "shell.execute_reply": "2025-07-19T06:28:42.470726Z"
    },
    "papermill": {
     "duration": 0.033095,
     "end_time": "2025-07-19T06:28:42.473208",
     "exception": false,
     "start_time": "2025-07-19T06:28:42.440113",
     "status": "completed"
    },
    "tags": []
   },
   "outputs": [
    {
     "data": {
      "text/html": [
       "<div>\n",
       "<style scoped>\n",
       "    .dataframe tbody tr th:only-of-type {\n",
       "        vertical-align: middle;\n",
       "    }\n",
       "\n",
       "    .dataframe tbody tr th {\n",
       "        vertical-align: top;\n",
       "    }\n",
       "\n",
       "    .dataframe thead th {\n",
       "        text-align: right;\n",
       "    }\n",
       "</style>\n",
       "<table border=\"1\" class=\"dataframe\">\n",
       "  <thead>\n",
       "    <tr style=\"text-align: right;\">\n",
       "      <th></th>\n",
       "      <th>competitorname</th>\n",
       "      <th>chocolate</th>\n",
       "      <th>fruity</th>\n",
       "      <th>caramel</th>\n",
       "      <th>peanutyalmondy</th>\n",
       "      <th>nougat</th>\n",
       "      <th>crispedricewafer</th>\n",
       "      <th>hard</th>\n",
       "      <th>bar</th>\n",
       "      <th>pluribus</th>\n",
       "      <th>sugarpercent</th>\n",
       "      <th>pricepercent</th>\n",
       "      <th>winpercent</th>\n",
       "    </tr>\n",
       "    <tr>\n",
       "      <th>id</th>\n",
       "      <th></th>\n",
       "      <th></th>\n",
       "      <th></th>\n",
       "      <th></th>\n",
       "      <th></th>\n",
       "      <th></th>\n",
       "      <th></th>\n",
       "      <th></th>\n",
       "      <th></th>\n",
       "      <th></th>\n",
       "      <th></th>\n",
       "      <th></th>\n",
       "      <th></th>\n",
       "    </tr>\n",
       "  </thead>\n",
       "  <tbody>\n",
       "    <tr>\n",
       "      <th>0</th>\n",
       "      <td>100 Grand</td>\n",
       "      <td>Yes</td>\n",
       "      <td>No</td>\n",
       "      <td>Yes</td>\n",
       "      <td>No</td>\n",
       "      <td>No</td>\n",
       "      <td>Yes</td>\n",
       "      <td>No</td>\n",
       "      <td>Yes</td>\n",
       "      <td>No</td>\n",
       "      <td>0.732</td>\n",
       "      <td>0.860</td>\n",
       "      <td>66.971725</td>\n",
       "    </tr>\n",
       "    <tr>\n",
       "      <th>1</th>\n",
       "      <td>3 Musketeers</td>\n",
       "      <td>Yes</td>\n",
       "      <td>No</td>\n",
       "      <td>No</td>\n",
       "      <td>No</td>\n",
       "      <td>Yes</td>\n",
       "      <td>No</td>\n",
       "      <td>No</td>\n",
       "      <td>Yes</td>\n",
       "      <td>No</td>\n",
       "      <td>0.604</td>\n",
       "      <td>0.511</td>\n",
       "      <td>67.602936</td>\n",
       "    </tr>\n",
       "    <tr>\n",
       "      <th>2</th>\n",
       "      <td>Air Heads</td>\n",
       "      <td>No</td>\n",
       "      <td>Yes</td>\n",
       "      <td>No</td>\n",
       "      <td>No</td>\n",
       "      <td>No</td>\n",
       "      <td>No</td>\n",
       "      <td>No</td>\n",
       "      <td>No</td>\n",
       "      <td>No</td>\n",
       "      <td>0.906</td>\n",
       "      <td>0.511</td>\n",
       "      <td>52.341465</td>\n",
       "    </tr>\n",
       "    <tr>\n",
       "      <th>3</th>\n",
       "      <td>Almond Joy</td>\n",
       "      <td>Yes</td>\n",
       "      <td>No</td>\n",
       "      <td>No</td>\n",
       "      <td>Yes</td>\n",
       "      <td>No</td>\n",
       "      <td>No</td>\n",
       "      <td>No</td>\n",
       "      <td>Yes</td>\n",
       "      <td>No</td>\n",
       "      <td>0.465</td>\n",
       "      <td>0.767</td>\n",
       "      <td>50.347546</td>\n",
       "    </tr>\n",
       "    <tr>\n",
       "      <th>4</th>\n",
       "      <td>Baby Ruth</td>\n",
       "      <td>Yes</td>\n",
       "      <td>No</td>\n",
       "      <td>Yes</td>\n",
       "      <td>Yes</td>\n",
       "      <td>Yes</td>\n",
       "      <td>No</td>\n",
       "      <td>No</td>\n",
       "      <td>Yes</td>\n",
       "      <td>No</td>\n",
       "      <td>0.604</td>\n",
       "      <td>0.767</td>\n",
       "      <td>56.914547</td>\n",
       "    </tr>\n",
       "  </tbody>\n",
       "</table>\n",
       "</div>"
      ],
      "text/plain": [
       "   competitorname chocolate fruity caramel peanutyalmondy nougat  \\\n",
       "id                                                                 \n",
       "0       100 Grand       Yes     No     Yes             No     No   \n",
       "1    3 Musketeers       Yes     No      No             No    Yes   \n",
       "2       Air Heads        No    Yes      No             No     No   \n",
       "3      Almond Joy       Yes     No      No            Yes     No   \n",
       "4       Baby Ruth       Yes     No     Yes            Yes    Yes   \n",
       "\n",
       "   crispedricewafer hard  bar pluribus  sugarpercent  pricepercent  winpercent  \n",
       "id                                                                              \n",
       "0               Yes   No  Yes       No         0.732         0.860   66.971725  \n",
       "1                No   No  Yes       No         0.604         0.511   67.602936  \n",
       "2                No   No   No       No         0.906         0.511   52.341465  \n",
       "3                No   No  Yes       No         0.465         0.767   50.347546  \n",
       "4                No   No  Yes       No         0.604         0.767   56.914547  "
      ]
     },
     "execution_count": 5,
     "metadata": {},
     "output_type": "execute_result"
    }
   ],
   "source": [
    "# Print the first five rows of the data\n",
    "____ # Your code here\n",
    "candy_data.head()"
   ]
  },
  {
   "cell_type": "markdown",
   "id": "e76e51ac",
   "metadata": {
    "papermill": {
     "duration": 0.006291,
     "end_time": "2025-07-19T06:28:42.486227",
     "exception": false,
     "start_time": "2025-07-19T06:28:42.479936",
     "status": "completed"
    },
    "tags": []
   },
   "source": [
    "The dataset contains 83 rows, where each corresponds to a different candy bar.  There are 13 columns:\n",
    "- `'competitorname'` contains the name of the candy bar. \n",
    "- the next **9** columns (from `'chocolate'` to `'pluribus'`) describe the candy.  For instance, rows with chocolate candies have `\"Yes\"` in the `'chocolate'` column (and candies without chocolate have `\"No\"` in the same column).\n",
    "- `'sugarpercent'` provides some indication of the amount of sugar, where higher values signify higher sugar content.\n",
    "- `'pricepercent'` shows the price per unit, relative to the other candies in the dataset.\n",
    "- `'winpercent'` is calculated from the survey results; higher values indicate that the candy was more popular with survey respondents.\n",
    "\n",
    "Use the first five rows of the data to answer the questions below."
   ]
  },
  {
   "cell_type": "code",
   "execution_count": 6,
   "id": "a2271802",
   "metadata": {
    "execution": {
     "iopub.execute_input": "2025-07-19T06:28:42.500639Z",
     "iopub.status.busy": "2025-07-19T06:28:42.499601Z",
     "iopub.status.idle": "2025-07-19T06:28:42.506990Z",
     "shell.execute_reply": "2025-07-19T06:28:42.506157Z"
    },
    "papermill": {
     "duration": 0.015884,
     "end_time": "2025-07-19T06:28:42.508311",
     "exception": false,
     "start_time": "2025-07-19T06:28:42.492427",
     "status": "completed"
    },
    "tags": []
   },
   "outputs": [
    {
     "data": {
      "application/javascript": [
       "parent.postMessage({\"jupyterEvent\": \"custom.exercise_interaction\", \"data\": {\"outcomeType\": 1, \"valueTowardsCompletion\": 0.3333333333333333, \"interactionType\": 1, \"questionType\": 1, \"questionId\": \"2_ReviewData\", \"learnToolsVersion\": \"0.3.5\", \"failureMessage\": \"\", \"exceptionClass\": \"\", \"trace\": \"\"}}, \"*\")"
      ],
      "text/plain": [
       "<IPython.core.display.Javascript object>"
      ]
     },
     "metadata": {},
     "output_type": "display_data"
    },
    {
     "data": {
      "text/markdown": [
       "<span style=\"color:#33cc33\">Correct</span>"
      ],
      "text/plain": [
       "Correct"
      ]
     },
     "metadata": {},
     "output_type": "display_data"
    }
   ],
   "source": [
    "# Fill in the line below: Which candy was more popular with survey respondents:\n",
    "# '3 Musketeers' or 'Almond Joy'?  (Please enclose your answer in single quotes.)\n",
    "more_popular = '3 Musketeers'\n",
    "\n",
    "# Fill in the line below: Which candy has higher sugar content: 'Air Heads'\n",
    "# or 'Baby Ruth'? (Please enclose your answer in single quotes.)\n",
    "more_sugar = 'Air Heads'\n",
    "\n",
    "\n",
    "# Check your answers\n",
    "step_2.check()"
   ]
  },
  {
   "cell_type": "code",
   "execution_count": 7,
   "id": "07298d6f",
   "metadata": {
    "execution": {
     "iopub.execute_input": "2025-07-19T06:28:42.522679Z",
     "iopub.status.busy": "2025-07-19T06:28:42.522360Z",
     "iopub.status.idle": "2025-07-19T06:28:42.526073Z",
     "shell.execute_reply": "2025-07-19T06:28:42.525379Z"
    },
    "papermill": {
     "duration": 0.01261,
     "end_time": "2025-07-19T06:28:42.527527",
     "exception": false,
     "start_time": "2025-07-19T06:28:42.514917",
     "status": "completed"
    },
    "tags": []
   },
   "outputs": [],
   "source": [
    "# Lines below will give you a hint or solution code\n",
    "#step_2.hint()\n",
    "#step_2.solution()"
   ]
  },
  {
   "cell_type": "markdown",
   "id": "75922f40",
   "metadata": {
    "papermill": {
     "duration": 0.006339,
     "end_time": "2025-07-19T06:28:42.540723",
     "exception": false,
     "start_time": "2025-07-19T06:28:42.534384",
     "status": "completed"
    },
    "tags": []
   },
   "source": [
    "## Step 3: The role of sugar\n",
    "\n",
    "Do people tend to prefer candies with higher sugar content?  \n",
    "\n",
    "#### Part A\n",
    "\n",
    "Create a scatter plot that shows the relationship between `'sugarpercent'` (on the horizontal x-axis) and `'winpercent'` (on the vertical y-axis).  _Don't add a regression line just yet -- you'll do that in the next step!_"
   ]
  },
  {
   "cell_type": "code",
   "execution_count": 8,
   "id": "507fd7d1",
   "metadata": {
    "execution": {
     "iopub.execute_input": "2025-07-19T06:28:42.554881Z",
     "iopub.status.busy": "2025-07-19T06:28:42.554576Z",
     "iopub.status.idle": "2025-07-19T06:28:42.959730Z",
     "shell.execute_reply": "2025-07-19T06:28:42.958794Z"
    },
    "papermill": {
     "duration": 0.413763,
     "end_time": "2025-07-19T06:28:42.961148",
     "exception": false,
     "start_time": "2025-07-19T06:28:42.547385",
     "status": "completed"
    },
    "tags": []
   },
   "outputs": [
    {
     "data": {
      "application/javascript": [
       "parent.postMessage({\"jupyterEvent\": \"custom.exercise_interaction\", \"data\": {\"outcomeType\": 1, \"valueTowardsCompletion\": 0.3333333333333333, \"interactionType\": 1, \"questionType\": 2, \"questionId\": \"3.1_PlotBlueScatter\", \"learnToolsVersion\": \"0.3.5\", \"failureMessage\": \"\", \"exceptionClass\": \"\", \"trace\": \"\"}}, \"*\")"
      ],
      "text/plain": [
       "<IPython.core.display.Javascript object>"
      ]
     },
     "metadata": {},
     "output_type": "display_data"
    },
    {
     "data": {
      "text/markdown": [
       "<span style=\"color:#33cc33\">Correct</span>"
      ],
      "text/plain": [
       "Correct"
      ]
     },
     "metadata": {},
     "output_type": "display_data"
    },
    {
     "data": {
      "image/png": "[encoded data removed]",
      "text/plain": [
       "<Figure size 640x480 with 1 Axes>"
      ]
     },
     "metadata": {},
     "output_type": "display_data"
    }
   ],
   "source": [
    "# Scatter plot showing the relationship between 'sugarpercent' and 'winpercent'\n",
    "sns.scatterplot(x=candy_data['sugarpercent'], y=candy_data['winpercent']) # Your code here\n",
    "\n",
    "# Check your answer\n",
    "step_3.a.check()"
   ]
  },
  {
   "cell_type": "code",
   "execution_count": 9,
   "id": "fb85af81",
   "metadata": {
    "execution": {
     "iopub.execute_input": "2025-07-19T06:28:42.977374Z",
     "iopub.status.busy": "2025-07-19T06:28:42.976992Z",
     "iopub.status.idle": "2025-07-19T06:28:42.980712Z",
     "shell.execute_reply": "2025-07-19T06:28:42.980106Z"
    },
    "papermill": {
     "duration": 0.013252,
     "end_time": "2025-07-19T06:28:42.981906",
     "exception": false,
     "start_time": "2025-07-19T06:28:42.968654",
     "status": "completed"
    },
    "tags": []
   },
   "outputs": [],
   "source": [
    "# Lines below will give you a hint or solution code\n",
    "#step_3.a.hint()\n",
    "#step_3.a.solution_plot()"
   ]
  },
  {
   "cell_type": "markdown",
   "id": "86f4f177",
   "metadata": {
    "papermill": {
     "duration": 0.006836,
     "end_time": "2025-07-19T06:28:42.995893",
     "exception": false,
     "start_time": "2025-07-19T06:28:42.989057",
     "status": "completed"
    },
    "tags": []
   },
   "source": [
    "#### Part B\n",
    "\n",
    "Does the scatter plot show a **strong** correlation between the two variables?  If so, are candies with more sugar relatively more or less popular with the survey respondents?"
   ]
  },
  {
   "cell_type": "code",
   "execution_count": 10,
   "id": "dcf0f5fa",
   "metadata": {
    "execution": {
     "iopub.execute_input": "2025-07-19T06:28:43.011227Z",
     "iopub.status.busy": "2025-07-19T06:28:43.010885Z",
     "iopub.status.idle": "2025-07-19T06:28:43.014844Z",
     "shell.execute_reply": "2025-07-19T06:28:43.014159Z"
    },
    "papermill": {
     "duration": 0.013067,
     "end_time": "2025-07-19T06:28:43.016010",
     "exception": false,
     "start_time": "2025-07-19T06:28:43.002943",
     "status": "completed"
    },
    "tags": []
   },
   "outputs": [],
   "source": [
    "#step_3.b.hint()"
   ]
  },
  {
   "cell_type": "code",
   "execution_count": 11,
   "id": "e4a21989",
   "metadata": {
    "execution": {
     "iopub.execute_input": "2025-07-19T06:28:43.031749Z",
     "iopub.status.busy": "2025-07-19T06:28:43.031108Z",
     "iopub.status.idle": "2025-07-19T06:28:43.037720Z",
     "shell.execute_reply": "2025-07-19T06:28:43.036978Z"
    },
    "papermill": {
     "duration": 0.016007,
     "end_time": "2025-07-19T06:28:43.038990",
     "exception": false,
     "start_time": "2025-07-19T06:28:43.022983",
     "status": "completed"
    },
    "tags": []
   },
   "outputs": [
    {
     "data": {
      "application/javascript": [
       "parent.postMessage({\"jupyterEvent\": \"custom.exercise_interaction\", \"data\": {\"interactionType\": 3, \"questionType\": 4, \"questionId\": \"3.2_ThinkBlueScatter\", \"learnToolsVersion\": \"0.3.5\", \"valueTowardsCompletion\": 0.0, \"failureMessage\": \"\", \"exceptionClass\": \"\", \"trace\": \"\", \"outcomeType\": 4}}, \"*\")"
      ],
      "text/plain": [
       "<IPython.core.display.Javascript object>"
      ]
     },
     "metadata": {},
     "output_type": "display_data"
    },
    {
     "data": {
      "text/markdown": [
       "<span style=\"color:#33cc99\">Solution:</span> The scatter plot does not show a strong correlation between the two variables. Since there is no clear relationship between the two variables, this tells us that sugar content does not play a strong role in candy popularity."
      ],
      "text/plain": [
       "Solution: The scatter plot does not show a strong correlation between the two variables. Since there is no clear relationship between the two variables, this tells us that sugar content does not play a strong role in candy popularity."
      ]
     },
     "metadata": {},
     "output_type": "display_data"
    }
   ],
   "source": [
    "# Check your answer (Run this code cell to receive credit!)\n",
    "step_3.b.solution()"
   ]
  },
  {
   "cell_type": "markdown",
   "id": "c3bf8cd8",
   "metadata": {
    "papermill": {
     "duration": 0.00703,
     "end_time": "2025-07-19T06:28:43.053588",
     "exception": false,
     "start_time": "2025-07-19T06:28:43.046558",
     "status": "completed"
    },
    "tags": []
   },
   "source": [
    "## Step 4: Take a closer look\n",
    "\n",
    "#### Part A\n",
    "\n",
    "Create the same scatter plot you created in **Step 3**, but now with a regression line!"
   ]
  },
  {
   "cell_type": "code",
   "execution_count": 12,
   "id": "5a619608",
   "metadata": {
    "execution": {
     "iopub.execute_input": "2025-07-19T06:28:43.069344Z",
     "iopub.status.busy": "2025-07-19T06:28:43.068772Z",
     "iopub.status.idle": "2025-07-19T06:28:43.375705Z",
     "shell.execute_reply": "2025-07-19T06:28:43.374806Z"
    },
    "papermill": {
     "duration": 0.316325,
     "end_time": "2025-07-19T06:28:43.377067",
     "exception": false,
     "start_time": "2025-07-19T06:28:43.060742",
     "status": "completed"
    },
    "tags": []
   },
   "outputs": [
    {
     "data": {
      "application/javascript": [
       "parent.postMessage({\"jupyterEvent\": \"custom.exercise_interaction\", \"data\": {\"outcomeType\": 1, \"valueTowardsCompletion\": 0.3333333333333333, \"interactionType\": 1, \"questionType\": 2, \"questionId\": \"4.1_PlotBlueReg\", \"learnToolsVersion\": \"0.3.5\", \"failureMessage\": \"\", \"exceptionClass\": \"\", \"trace\": \"\"}}, \"*\")"
      ],
      "text/plain": [
       "<IPython.core.display.Javascript object>"
      ]
     },
     "metadata": {},
     "output_type": "display_data"
    },
    {
     "data": {
      "text/markdown": [
       "<span style=\"color:#33cc33\">Correct</span>"
      ],
      "text/plain": [
       "Correct"
      ]
     },
     "metadata": {},
     "output_type": "display_data"
    },
    {
     "data": {
      "image/png": "[encoded data removed]",
      "text/plain": [
       "<Figure size 640x480 with 1 Axes>"
      ]
     },
     "metadata": {},
     "output_type": "display_data"
    }
   ],
   "source": [
    "# Scatter plot w/ regression line showing the relationship between 'sugarpercent' and 'winpercent'\n",
    "sns.regplot(x=candy_data['sugarpercent'], y=candy_data['winpercent']) # Your code here\n",
    "\n",
    "# Check your answer\n",
    "step_4.a.check()"
   ]
  },
  {
   "cell_type": "code",
   "execution_count": 13,
   "id": "4bbf096d",
   "metadata": {
    "execution": {
     "iopub.execute_input": "2025-07-19T06:28:43.394596Z",
     "iopub.status.busy": "2025-07-19T06:28:43.393994Z",
     "iopub.status.idle": "2025-07-19T06:28:43.397899Z",
     "shell.execute_reply": "2025-07-19T06:28:43.397068Z"
    },
    "papermill": {
     "duration": 0.014224,
     "end_time": "2025-07-19T06:28:43.399390",
     "exception": false,
     "start_time": "2025-07-19T06:28:43.385166",
     "status": "completed"
    },
    "tags": []
   },
   "outputs": [],
   "source": [
    "# Lines below will give you a hint or solution code\n",
    "#step_4.a.hint()\n",
    "#step_4.a.solution_plot()"
   ]
  },
  {
   "cell_type": "markdown",
   "id": "44171763",
   "metadata": {
    "papermill": {
     "duration": 0.007814,
     "end_time": "2025-07-19T06:28:43.415321",
     "exception": false,
     "start_time": "2025-07-19T06:28:43.407507",
     "status": "completed"
    },
    "tags": []
   },
   "source": [
    "#### Part B\n",
    "\n",
    "According to the plot above, is there a **slight** correlation between `'winpercent'` and `'sugarpercent'`?  What does this tell you about the candy that people tend to prefer?"
   ]
  },
  {
   "cell_type": "code",
   "execution_count": 14,
   "id": "67242d33",
   "metadata": {
    "execution": {
     "iopub.execute_input": "2025-07-19T06:28:43.432373Z",
     "iopub.status.busy": "2025-07-19T06:28:43.431986Z",
     "iopub.status.idle": "2025-07-19T06:28:43.436186Z",
     "shell.execute_reply": "2025-07-19T06:28:43.435301Z"
    },
    "papermill": {
     "duration": 0.014466,
     "end_time": "2025-07-19T06:28:43.437618",
     "exception": false,
     "start_time": "2025-07-19T06:28:43.423152",
     "status": "completed"
    },
    "tags": []
   },
   "outputs": [],
   "source": [
    "#step_4.b.hint()"
   ]
  },
  {
   "cell_type": "code",
   "execution_count": 15,
   "id": "687d6d6e",
   "metadata": {
    "execution": {
     "iopub.execute_input": "2025-07-19T06:28:43.520992Z",
     "iopub.status.busy": "2025-07-19T06:28:43.520182Z",
     "iopub.status.idle": "2025-07-19T06:28:43.527130Z",
     "shell.execute_reply": "2025-07-19T06:28:43.526281Z"
    },
    "papermill": {
     "duration": 0.082884,
     "end_time": "2025-07-19T06:28:43.528511",
     "exception": false,
     "start_time": "2025-07-19T06:28:43.445627",
     "status": "completed"
    },
    "tags": []
   },
   "outputs": [
    {
     "data": {
      "application/javascript": [
       "parent.postMessage({\"jupyterEvent\": \"custom.exercise_interaction\", \"data\": {\"interactionType\": 3, \"questionType\": 4, \"questionId\": \"4.2_ThinkBlueReg\", \"learnToolsVersion\": \"0.3.5\", \"valueTowardsCompletion\": 0.0, \"failureMessage\": \"\", \"exceptionClass\": \"\", \"trace\": \"\", \"outcomeType\": 4}}, \"*\")"
      ],
      "text/plain": [
       "<IPython.core.display.Javascript object>"
      ]
     },
     "metadata": {},
     "output_type": "display_data"
    },
    {
     "data": {
      "text/markdown": [
       "<span style=\"color:#33cc99\">Solution:</span> Since the regression line has a slightly positive slope, this tells us that there is a slightly positive correlation between `'winpercent'` and `'sugarpercent'`. Thus, people have a slight preference for candies containing relatively more sugar."
      ],
      "text/plain": [
       "Solution: Since the regression line has a slightly positive slope, this tells us that there is a slightly positive correlation between `'winpercent'` and `'sugarpercent'`. Thus, people have a slight preference for candies containing relatively more sugar."
      ]
     },
     "metadata": {},
     "output_type": "display_data"
    }
   ],
   "source": [
    "# Check your answer (Run this code cell to receive credit!)\n",
    "step_4.b.solution()"
   ]
  },
  {
   "cell_type": "markdown",
   "id": "8a254eea",
   "metadata": {
    "papermill": {
     "duration": 0.008803,
     "end_time": "2025-07-19T06:28:43.545561",
     "exception": false,
     "start_time": "2025-07-19T06:28:43.536758",
     "status": "completed"
    },
    "tags": []
   },
   "source": [
    "## Step 5: Chocolate!\n",
    "\n",
    "In the code cell below, create a scatter plot to show the relationship between `'pricepercent'` (on the horizontal x-axis) and `'winpercent'` (on the vertical y-axis). Use the `'chocolate'` column to color-code the points.  _Don't add any regression lines just yet -- you'll do that in the next step!_"
   ]
  },
  {
   "cell_type": "code",
   "execution_count": 16,
   "id": "47b1f8ad",
   "metadata": {
    "execution": {
     "iopub.execute_input": "2025-07-19T06:28:43.563261Z",
     "iopub.status.busy": "2025-07-19T06:28:43.562918Z",
     "iopub.status.idle": "2025-07-19T06:28:43.810485Z",
     "shell.execute_reply": "2025-07-19T06:28:43.809638Z"
    },
    "papermill": {
     "duration": 0.258345,
     "end_time": "2025-07-19T06:28:43.812129",
     "exception": false,
     "start_time": "2025-07-19T06:28:43.553784",
     "status": "completed"
    },
    "tags": []
   },
   "outputs": [
    {
     "data": {
      "application/javascript": [
       "parent.postMessage({\"jupyterEvent\": \"custom.exercise_interaction\", \"data\": {\"outcomeType\": 1, \"valueTowardsCompletion\": 0.3333333333333333, \"interactionType\": 1, \"questionType\": 2, \"questionId\": \"5_ColorScatter\", \"learnToolsVersion\": \"0.3.5\", \"failureMessage\": \"\", \"exceptionClass\": \"\", \"trace\": \"\"}}, \"*\")"
      ],
      "text/plain": [
       "<IPython.core.display.Javascript object>"
      ]
     },
     "metadata": {},
     "output_type": "display_data"
    },
    {
     "data": {
      "text/markdown": [
       "<span style=\"color:#33cc33\">Correct</span>"
      ],
      "text/plain": [
       "Correct"
      ]
     },
     "metadata": {},
     "output_type": "display_data"
    },
    {
     "data": {
      "image/png": "[encoded data removed]",
      "text/plain": [
       "<Figure size 640x480 with 1 Axes>"
      ]
     },
     "metadata": {},
     "output_type": "display_data"
    }
   ],
   "source": [
    "# Scatter plot showing the relationship between 'pricepercent', 'winpercent', and 'chocolate'\n",
    "sns.scatterplot(x='pricepercent', y='winpercent', hue='chocolate', data=candy_data) # Your code here\n",
    "\n",
    "# Check your answer\n",
    "step_5.check()"
   ]
  },
  {
   "cell_type": "code",
   "execution_count": 17,
   "id": "2b4245da",
   "metadata": {
    "execution": {
     "iopub.execute_input": "2025-07-19T06:28:43.832325Z",
     "iopub.status.busy": "2025-07-19T06:28:43.831989Z",
     "iopub.status.idle": "2025-07-19T06:28:43.835930Z",
     "shell.execute_reply": "2025-07-19T06:28:43.835162Z"
    },
    "papermill": {
     "duration": 0.015925,
     "end_time": "2025-07-19T06:28:43.837281",
     "exception": false,
     "start_time": "2025-07-19T06:28:43.821356",
     "status": "completed"
    },
    "tags": []
   },
   "outputs": [],
   "source": [
    "# Lines below will give you a hint or solution code\n",
    "#step_5.hint()\n",
    "#step_5.solution_plot()"
   ]
  },
  {
   "cell_type": "markdown",
   "id": "c44c2c4c",
   "metadata": {
    "papermill": {
     "duration": 0.008496,
     "end_time": "2025-07-19T06:28:43.854683",
     "exception": false,
     "start_time": "2025-07-19T06:28:43.846187",
     "status": "completed"
    },
    "tags": []
   },
   "source": [
    "Can you see any interesting patterns in the scatter plot?  We'll investigate this plot further  by adding regression lines in the next step!\n",
    "\n",
    "## Step 6: Investigate chocolate\n",
    "\n",
    "#### Part A\n",
    "\n",
    "Create the same scatter plot you created in **Step 5**, but now with two regression lines, corresponding to (1) chocolate candies and (2) candies without chocolate."
   ]
  },
  {
   "cell_type": "code",
   "execution_count": 18,
   "id": "551bec5c",
   "metadata": {
    "execution": {
     "iopub.execute_input": "2025-07-19T06:28:43.874073Z",
     "iopub.status.busy": "2025-07-19T06:28:43.873099Z",
     "iopub.status.idle": "2025-07-19T06:28:44.474728Z",
     "shell.execute_reply": "2025-07-19T06:28:44.473761Z"
    },
    "papermill": {
     "duration": 0.612748,
     "end_time": "2025-07-19T06:28:44.476274",
     "exception": false,
     "start_time": "2025-07-19T06:28:43.863526",
     "status": "completed"
    },
    "tags": []
   },
   "outputs": [
    {
     "data": {
      "application/javascript": [
       "parent.postMessage({\"jupyterEvent\": \"custom.exercise_interaction\", \"data\": {\"outcomeType\": 1, \"valueTowardsCompletion\": 0.3333333333333333, \"interactionType\": 1, \"questionType\": 2, \"questionId\": \"6.1_PlotColorReg\", \"learnToolsVersion\": \"0.3.5\", \"failureMessage\": \"\", \"exceptionClass\": \"\", \"trace\": \"\"}}, \"*\")"
      ],
      "text/plain": [
       "<IPython.core.display.Javascript object>"
      ]
     },
     "metadata": {},
     "output_type": "display_data"
    },
    {
     "data": {
      "text/markdown": [
       "<span style=\"color:#33cc33\">Correct</span>"
      ],
      "text/plain": [
       "Correct"
      ]
     },
     "metadata": {},
     "output_type": "display_data"
    },
    {
     "data": {
      "image/png": "[encoded data removed]",
      "text/plain": [
       "<Figure size 578.611x500 with 1 Axes>"
      ]
     },
     "metadata": {},
     "output_type": "display_data"
    }
   ],
   "source": [
    "# Color-coded scatter plot w/ regression lines\n",
    "sns.lmplot(x='pricepercent', y='winpercent', hue='chocolate', data=candy_data) # Your code here\n",
    "\n",
    "# Check your answer\n",
    "step_6.a.check()"
   ]
  },
  {
   "cell_type": "code",
   "execution_count": 19,
   "id": "3b723423",
   "metadata": {
    "execution": {
     "iopub.execute_input": "2025-07-19T06:28:44.497395Z",
     "iopub.status.busy": "2025-07-19T06:28:44.497053Z",
     "iopub.status.idle": "2025-07-19T06:28:44.501101Z",
     "shell.execute_reply": "2025-07-19T06:28:44.500252Z"
    },
    "papermill": {
     "duration": 0.016094,
     "end_time": "2025-07-19T06:28:44.502465",
     "exception": false,
     "start_time": "2025-07-19T06:28:44.486371",
     "status": "completed"
    },
    "tags": []
   },
   "outputs": [],
   "source": [
    "# Lines below will give you a hint or solution code\n",
    "#step_6.a.hint()\n",
    "#step_6.a.solution_plot()"
   ]
  },
  {
   "cell_type": "markdown",
   "id": "b6e40b2c",
   "metadata": {
    "papermill": {
     "duration": 0.009392,
     "end_time": "2025-07-19T06:28:44.521804",
     "exception": false,
     "start_time": "2025-07-19T06:28:44.512412",
     "status": "completed"
    },
    "tags": []
   },
   "source": [
    "#### Part B\n",
    "\n",
    "Using the regression lines, what conclusions can you draw about the effects of chocolate and price on candy popularity?"
   ]
  },
  {
   "cell_type": "code",
   "execution_count": 20,
   "id": "5c09a2ce",
   "metadata": {
    "execution": {
     "iopub.execute_input": "2025-07-19T06:28:44.542207Z",
     "iopub.status.busy": "2025-07-19T06:28:44.541910Z",
     "iopub.status.idle": "2025-07-19T06:28:44.545587Z",
     "shell.execute_reply": "2025-07-19T06:28:44.544838Z"
    },
    "papermill": {
     "duration": 0.015498,
     "end_time": "2025-07-19T06:28:44.546950",
     "exception": false,
     "start_time": "2025-07-19T06:28:44.531452",
     "status": "completed"
    },
    "tags": []
   },
   "outputs": [],
   "source": [
    "#step_6.b.hint()"
   ]
  },
  {
   "cell_type": "code",
   "execution_count": 21,
   "id": "be3bc7c1",
   "metadata": {
    "execution": {
     "iopub.execute_input": "2025-07-19T06:28:44.567941Z",
     "iopub.status.busy": "2025-07-19T06:28:44.567633Z",
     "iopub.status.idle": "2025-07-19T06:28:44.574505Z",
     "shell.execute_reply": "2025-07-19T06:28:44.573622Z"
    },
    "papermill": {
     "duration": 0.019023,
     "end_time": "2025-07-19T06:28:44.575863",
     "exception": false,
     "start_time": "2025-07-19T06:28:44.556840",
     "status": "completed"
    },
    "tags": []
   },
   "outputs": [
    {
     "data": {
      "application/javascript": [
       "parent.postMessage({\"jupyterEvent\": \"custom.exercise_interaction\", \"data\": {\"interactionType\": 3, \"questionType\": 4, \"questionId\": \"6.2_ThinkColorReg\", \"learnToolsVersion\": \"0.3.5\", \"valueTowardsCompletion\": 0.0, \"failureMessage\": \"\", \"exceptionClass\": \"\", \"trace\": \"\", \"outcomeType\": 4}}, \"*\")"
      ],
      "text/plain": [
       "<IPython.core.display.Javascript object>"
      ]
     },
     "metadata": {},
     "output_type": "display_data"
    },
    {
     "data": {
      "text/markdown": [
       "<span style=\"color:#33cc99\">Solution:</span> We'll begin with the regression line for chocolate candies. Since this line has a slightly positive slope, we can say that more expensive chocolate candies tend to be more popular (than relatively cheaper chocolate candies).  Likewise, since the regression line for candies without chocolate has a negative slope, we can say that if candies don't contain chocolate, they tend to be more popular when they are cheaper.  One important note, however, is that the dataset is quite small -- so we shouldn't invest too much trust in these patterns!  To inspire more confidence in the results, we should add more candies to the dataset."
      ],
      "text/plain": [
       "Solution: We'll begin with the regression line for chocolate candies. Since this line has a slightly positive slope, we can say that more expensive chocolate candies tend to be more popular (than relatively cheaper chocolate candies).  Likewise, since the regression line for candies without chocolate has a negative slope, we can say that if candies don't contain chocolate, they tend to be more popular when they are cheaper.  One important note, however, is that the dataset is quite small -- so we shouldn't invest too much trust in these patterns!  To inspire more confidence in the results, we should add more candies to the dataset."
      ]
     },
     "metadata": {},
     "output_type": "display_data"
    }
   ],
   "source": [
    "# Check your answer (Run this code cell to receive credit!)\n",
    "step_6.b.solution()"
   ]
  },
  {
   "cell_type": "markdown",
   "id": "1b8a572e",
   "metadata": {
    "papermill": {
     "duration": 0.009517,
     "end_time": "2025-07-19T06:28:44.595548",
     "exception": false,
     "start_time": "2025-07-19T06:28:44.586031",
     "status": "completed"
    },
    "tags": []
   },
   "source": [
    "## Step 7: Everybody loves chocolate.\n",
    "\n",
    "#### Part A\n",
    "\n",
    "Create a categorical scatter plot to highlight the relationship between `'chocolate'` and `'winpercent'`.  Put `'chocolate'` on the (horizontal) x-axis, and `'winpercent'` on the (vertical) y-axis."
   ]
  },
  {
   "cell_type": "code",
   "execution_count": 22,
   "id": "77d87d8b",
   "metadata": {
    "execution": {
     "iopub.execute_input": "2025-07-19T06:28:44.616338Z",
     "iopub.status.busy": "2025-07-19T06:28:44.615950Z",
     "iopub.status.idle": "2025-07-19T06:28:44.860427Z",
     "shell.execute_reply": "2025-07-19T06:28:44.859466Z"
    },
    "papermill": {
     "duration": 0.256441,
     "end_time": "2025-07-19T06:28:44.861826",
     "exception": false,
     "start_time": "2025-07-19T06:28:44.605385",
     "status": "completed"
    },
    "tags": []
   },
   "outputs": [
    {
     "data": {
      "application/javascript": [
       "parent.postMessage({\"jupyterEvent\": \"custom.exercise_interaction\", \"data\": {\"outcomeType\": 1, \"valueTowardsCompletion\": 0.3333333333333333, \"interactionType\": 1, \"questionType\": 2, \"questionId\": \"7.1_PlotSwarm\", \"learnToolsVersion\": \"0.3.5\", \"failureMessage\": \"\", \"exceptionClass\": \"\", \"trace\": \"\"}}, \"*\")"
      ],
      "text/plain": [
       "<IPython.core.display.Javascript object>"
      ]
     },
     "metadata": {},
     "output_type": "display_data"
    },
    {
     "data": {
      "text/markdown": [
       "<span style=\"color:#33cc33\">Correct</span>"
      ],
      "text/plain": [
       "Correct"
      ]
     },
     "metadata": {},
     "output_type": "display_data"
    },
    {
     "data": {
      "image/png": "[encoded data removed]",
      "text/plain": [
       "<Figure size 640x480 with 1 Axes>"
      ]
     },
     "metadata": {},
     "output_type": "display_data"
    }
   ],
   "source": [
    "# Scatter plot showing the relationship between 'chocolate' and 'winpercent'\n",
    "sns.swarmplot(x=\"chocolate\", y=\"winpercent\", data=candy_data) # Your code here\n",
    "\n",
    "# Check your answer\n",
    "step_7.a.check()"
   ]
  },
  {
   "cell_type": "code",
   "execution_count": 23,
   "id": "680aee39",
   "metadata": {
    "execution": {
     "iopub.execute_input": "2025-07-19T06:28:44.884737Z",
     "iopub.status.busy": "2025-07-19T06:28:44.884003Z",
     "iopub.status.idle": "2025-07-19T06:28:44.887801Z",
     "shell.execute_reply": "2025-07-19T06:28:44.887118Z"
    },
    "papermill": {
     "duration": 0.016553,
     "end_time": "2025-07-19T06:28:44.889149",
     "exception": false,
     "start_time": "2025-07-19T06:28:44.872596",
     "status": "completed"
    },
    "tags": []
   },
   "outputs": [],
   "source": [
    "# Lines below will give you a hint or solution code\n",
    "#step_7.a.hint()\n",
    "#step_7.a.solution_plot()"
   ]
  },
  {
   "cell_type": "markdown",
   "id": "aed7022a",
   "metadata": {
    "papermill": {
     "duration": 0.010278,
     "end_time": "2025-07-19T06:28:44.909950",
     "exception": false,
     "start_time": "2025-07-19T06:28:44.899672",
     "status": "completed"
    },
    "tags": []
   },
   "source": [
    "#### Part B\n",
    "\n",
    "You decide to dedicate a section of your report to the fact that chocolate candies tend to be more popular than candies without chocolate.  Which plot is more appropriate to tell this story: the plot from **Step 6**, or the plot from **Step 7**?"
   ]
  },
  {
   "cell_type": "code",
   "execution_count": 24,
   "id": "f9cd0418",
   "metadata": {
    "execution": {
     "iopub.execute_input": "2025-07-19T06:28:44.932508Z",
     "iopub.status.busy": "2025-07-19T06:28:44.931803Z",
     "iopub.status.idle": "2025-07-19T06:28:44.935572Z",
     "shell.execute_reply": "2025-07-19T06:28:44.934848Z"
    },
    "papermill": {
     "duration": 0.016473,
     "end_time": "2025-07-19T06:28:44.936859",
     "exception": false,
     "start_time": "2025-07-19T06:28:44.920386",
     "status": "completed"
    },
    "tags": []
   },
   "outputs": [],
   "source": [
    "#step_7.b.hint()"
   ]
  },
  {
   "cell_type": "code",
   "execution_count": 25,
   "id": "98ed2123",
   "metadata": {
    "execution": {
     "iopub.execute_input": "2025-07-19T06:28:44.959432Z",
     "iopub.status.busy": "2025-07-19T06:28:44.958814Z",
     "iopub.status.idle": "2025-07-19T06:28:44.965422Z",
     "shell.execute_reply": "2025-07-19T06:28:44.964723Z"
    },
    "papermill": {
     "duration": 0.019185,
     "end_time": "2025-07-19T06:28:44.966681",
     "exception": false,
     "start_time": "2025-07-19T06:28:44.947496",
     "status": "completed"
    },
    "tags": []
   },
   "outputs": [
    {
     "data": {
      "application/javascript": [
       "parent.postMessage({\"jupyterEvent\": \"custom.exercise_interaction\", \"data\": {\"interactionType\": 3, \"questionType\": 4, \"questionId\": \"7.2_ThinkSwarm\", \"learnToolsVersion\": \"0.3.5\", \"valueTowardsCompletion\": 0.0, \"failureMessage\": \"\", \"exceptionClass\": \"\", \"trace\": \"\", \"outcomeType\": 4}}, \"*\")"
      ],
      "text/plain": [
       "<IPython.core.display.Javascript object>"
      ]
     },
     "metadata": {},
     "output_type": "display_data"
    },
    {
     "data": {
      "text/markdown": [
       "<span style=\"color:#33cc99\">Solution:</span> In this case, the categorical scatter plot from **Step 7** is the more appropriate plot. While both plots tell the desired story, the plot from **Step 6** conveys far more information that could distract from the main point."
      ],
      "text/plain": [
       "Solution: In this case, the categorical scatter plot from **Step 7** is the more appropriate plot. While both plots tell the desired story, the plot from **Step 6** conveys far more information that could distract from the main point."
      ]
     },
     "metadata": {},
     "output_type": "display_data"
    }
   ],
   "source": [
    "# Check your answer (Run this code cell to receive credit!)\n",
    "step_7.b.solution()"
   ]
  },
  {
   "cell_type": "markdown",
   "id": "607ea695",
   "metadata": {
    "papermill": {
     "duration": 0.010502,
     "end_time": "2025-07-19T06:28:44.987832",
     "exception": false,
     "start_time": "2025-07-19T06:28:44.977330",
     "status": "completed"
    },
    "tags": []
   },
   "source": [
    "## Keep going\n",
    "\n",
    "Explore **[histograms and density plots](https://www.kaggle.com/alexisbcook/distributions)**."
   ]
  },
  {
   "cell_type": "markdown",
   "id": "2a72206b",
   "metadata": {
    "papermill": {
     "duration": 0.010734,
     "end_time": "2025-07-19T06:28:45.008820",
     "exception": false,
     "start_time": "2025-07-19T06:28:44.998086",
     "status": "completed"
    },
    "tags": []
   },
   "source": [
    "---\n",
    "\n",
    "\n",
    "\n",
    "\n",
    "*Have questions or comments? Visit the [course discussion forum](https://www.kaggle.com/learn/data-visualization/discussion) to chat with other learners.*"
   ]
  }
 ],
 "metadata": {
  "kaggle": {
   "accelerator": "none",
   "dataSources": [
    {
     "datasetId": 116573,
     "sourceId": 3551030,
     "sourceType": "datasetVersion"
    }
   ],
   "isGpuEnabled": false,
   "isInternetEnabled": false,
   "language": "python",
   "sourceType": "notebook"
  },
  "kernelspec": {
   "display_name": "Python 3",
   "language": "python",
   "name": "python3"
  },
  "language_info": {
   "codemirror_mode": {
    "name": "ipython",
    "version": 3
   },
   "file_extension": ".py",
   "mimetype": "text/x-python",
   "name": "python",
   "nbconvert_exporter": "python",
   "pygments_lexer": "ipython3",
   "version": "3.11.13"
  },
  "papermill": {
   "default_parameters": {},
   "duration": 11.829666,
   "end_time": "2025-07-19T06:28:45.739550",
   "environment_variables": {},
   "exception": null,
   "input_path": "__notebook__.ipynb",
   "output_path": "__notebook__.ipynb",
   "parameters": {},
   "start_time": "2025-07-19T06:28:33.909884",
   "version": "2.6.0"
  }
 },
 "nbformat": 4,
 "nbformat_minor": 5
}
